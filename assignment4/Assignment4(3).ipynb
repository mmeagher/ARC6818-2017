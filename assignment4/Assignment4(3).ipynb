{
 "cells": [
  {
   "cell_type": "markdown",
   "metadata": {},
   "source": [
    "By analysing the Titanic passenger dataset, this piece of work is going to look into the chances of survival in respect of passenger's age, class and fare paid, and then investigate the correlation between chance of survival and these attributes."
   ]
  },
  {
   "cell_type": "code",
   "execution_count": 74,
   "metadata": {
    "collapsed": true
   },
   "outputs": [],
   "source": [
    "import pandas as pd\n",
    "df = pd.read_csv('U:/ManW10/Downloads/train.csv', header=0)"
   ]
  },
  {
   "cell_type": "code",
   "execution_count": 75,
   "metadata": {
    "collapsed": true
   },
   "outputs": [],
   "source": [
    "#Extract info to be analysed\n",
    "df = df.drop(['Sex'], axis=1)\n",
    "df = df.drop(['SibSp'], axis=1)\n",
    "df = df.drop(['Parch'], axis=1)\n",
    "df = df.drop(['Ticket'], axis=1)\n",
    "df = df.drop(['Cabin'], axis=1)\n",
    "df = df.drop(['Embarked'], axis=1)\n",
    "df = df.drop(['Name'], axis=1)"
   ]
  },
  {
   "cell_type": "code",
   "execution_count": 76,
   "metadata": {
    "scrolled": true
   },
   "outputs": [
    {
     "name": "stdout",
     "output_type": "stream",
     "text": [
      "<class 'pandas.core.frame.DataFrame'>\n",
      "RangeIndex: 891 entries, 0 to 890\n",
      "Data columns (total 5 columns):\n",
      "PassengerId    891 non-null int64\n",
      "Survived       891 non-null int64\n",
      "Pclass         891 non-null int64\n",
      "Age            714 non-null float64\n",
      "Fare           891 non-null float64\n",
      "dtypes: float64(2), int64(3)\n",
      "memory usage: 34.9 KB\n"
     ]
    }
   ],
   "source": [
    "df.info()"
   ]
  },
  {
   "cell_type": "markdown",
   "metadata": {},
   "source": [
    "Firstly the attribute Age will be considered."
   ]
  },
  {
   "cell_type": "code",
   "execution_count": 77,
   "metadata": {},
   "outputs": [
    {
     "name": "stdout",
     "output_type": "stream",
     "text": [
      "0.19865319865319866\n"
     ]
    }
   ],
   "source": [
    "#percentage of null values in Age attribute\n",
    "a = (891-714)/891\n",
    "print(a)"
   ]
  },
  {
   "cell_type": "markdown",
   "metadata": {},
   "source": [
    "Since nearly 20% of the age information of the passengers is missing which is a considerable percentage, it is assumed that the age and possibility of survival are distributed in a similar behavior to the rest of the whole group. Therefore, in this case, only the 80% of the passengers' infomation is looked into."
   ]
  },
  {
   "cell_type": "code",
   "execution_count": 78,
   "metadata": {},
   "outputs": [
    {
     "name": "stdout",
     "output_type": "stream",
     "text": [
      "80.0 0.42\n"
     ]
    }
   ],
   "source": [
    "#get the range of ages\n",
    "print(df['Age'].max(),df['Age'].min())"
   ]
  },
  {
   "cell_type": "code",
   "execution_count": 79,
   "metadata": {},
   "outputs": [
    {
     "data": {
      "text/plain": [
       "<matplotlib.axes._subplots.AxesSubplot at 0x254f3460518>"
      ]
     },
     "execution_count": 79,
     "metadata": {},
     "output_type": "execute_result"
    },
    {
     "data": {
      "image/png": "[encoded data removed]",
      "text/plain": [
       "<matplotlib.figure.Figure at 0x254f19fd438>"
      ]
     },
     "metadata": {},
     "output_type": "display_data"
    }
   ],
   "source": [
    "#looking into the age distribution of passengers\n",
    "%matplotlib inline\n",
    "import pylab as P\n",
    "\n",
    "df['Age'].hist(bins=8, range=(0,80))"
   ]
  },
  {
   "cell_type": "markdown",
   "metadata": {},
   "source": [
    "From the histogram presented here, the number of passengers increases to more than 200 for the range 20-30 and then drop gradually while the age value increases."
   ]
  },
  {
   "cell_type": "code",
   "execution_count": 80,
   "metadata": {},
   "outputs": [
    {
     "name": "stdout",
     "output_type": "stream",
     "text": [
      "  Age range  Number of passengers  Number of survivals  Survival rate/%\n",
      "0      0-10                    62                   38               61\n",
      "1     10-20                   102                   41               40\n",
      "2     20-30                   220                   77               35\n",
      "3     30-40                   167                   73               43\n",
      "4     40,50                    89                   34               38\n",
      "5     50-60                    48                   20               41\n",
      "6     60-70                    19                    6               31\n",
      "7     70-80                     7                    1               14\n"
     ]
    }
   ],
   "source": [
    "#divide the group with non-null age information into 8 groups i.e. 0-10,10-20 ...... 70-80\n",
    "mask = [df.Age<10,\n",
    "        (df['Age']>=10) & (df['Age']<20),\n",
    "        (df['Age']>=20) & (df['Age']<30),\n",
    "        (df['Age']>=30) & (df['Age']<40),\n",
    "        (df['Age']>=40) & (df['Age']<50),\n",
    "        (df['Age']>=50) & (df['Age']<60),\n",
    "        (df['Age']>=60) & (df['Age']<70),\n",
    "        (df['Age']>=70) & (df['Age']<=80)]\n",
    "\n",
    "#number of passengers in each age group\n",
    "N_p = []\n",
    "\n",
    "#number of survivals in each age group\n",
    "N_s = []\n",
    "\n",
    "#the survival rate of each group.\n",
    "S_r = []\n",
    "\n",
    "for i in range(len(mask)):\n",
    "    n_p = df[mask[i]]['Survived'].value_counts().sum()\n",
    "    n_s = df[mask[i]]['Survived'].value_counts()[1]\n",
    "    s_r = n_s / n_p\n",
    "    s_r = int(s_r * 100)\n",
    "    N_p.append(n_p)\n",
    "    N_s.append(n_s)\n",
    "    S_r.append(s_r)\n",
    "\n",
    "#present these values in a table\n",
    "df2 = pd.DataFrame({'Age range':['0-10','10-20','20-30','30-40','40,50','50-60','60-70','70-80'],\n",
    "                   'Number of passengers':N_p,'Number of survivals':N_s,'Survival rate/%':S_r})\n",
    "print(df2)"
   ]
  },
  {
   "cell_type": "code",
   "execution_count": 81,
   "metadata": {},
   "outputs": [
    {
     "name": "stdout",
     "output_type": "stream",
     "text": [
      "40\n"
     ]
    }
   ],
   "source": [
    "#survival rate of all passengers considered \n",
    "s_r_all = sum(N_s)/sum(N_p) * 100\n",
    "print(int(s_r_all))"
   ]
  },
  {
   "cell_type": "markdown",
   "metadata": {},
   "source": [
    "From the table above, it can be seen that children i.e. passengers in ages ranging from 0 to 10 has the highest survival rate as much as 61% which is more than a half while the 70-80 age group the lowest with value 14%. Although the 20-30 group has got the largest number of survival, its survival rate is lower than the rate overall i.e. 40%. In comparison with that, the rate of 30-40, 40%, is higher than the overall rate and is the second highest. \n",
    "\n",
    "The lowest two survival rates drop on groups 60-70 and 70-80,indicating that a higher age might not be an advantegeous attribute for survival."
   ]
  },
  {
   "cell_type": "code",
   "execution_count": 82,
   "metadata": {},
   "outputs": [
    {
     "data": {
      "image/png": "[encoded data removed]",
      "text/plain": [
       "<matplotlib.figure.Figure at 0x254f219a908>"
      ]
     },
     "metadata": {},
     "output_type": "display_data"
    }
   ],
   "source": [
    "#plot the scattered survival rate against age groups and generate a best-fit line for these data\n",
    "#ref:https://plot.ly/matplotlib/linear-fits/\n",
    "\n",
    "# MatPlotlib\n",
    "import matplotlib.pyplot as plt\n",
    "from matplotlib import pylab\n",
    "\n",
    "# Scientific libraries\n",
    "from numpy import arange,array,ones\n",
    "from scipy import stats\n",
    "\n",
    "#represent the age groups with numbers from 0 to 8, meaning 0-10, 10-20,20-30 ect.\n",
    "xi = arange(0,8)\n",
    "A = array([ xi, ones(8)])\n",
    "\n",
    "# y-axis represents the survival rate of the corresponding age group\n",
    "y = S_r\n",
    "\n",
    "# Generated linear fit\n",
    "slope, intercept, r_value, p_value, std_err = stats.linregress(xi,y)\n",
    "line = slope*xi+intercept\n",
    "\n",
    "plt.plot(xi, y, 'o', label='original data')\n",
    "plt.plot(xi, intercept + slope*xi, 'r', label='fitted line')\n",
    "plt.legend()\n",
    "plt.show()"
   ]
  },
  {
   "cell_type": "markdown",
   "metadata": {},
   "source": [
    "In the graph above, a declined line shows a decreasing trend as the order of age groups goes up. "
   ]
  },
  {
   "cell_type": "code",
   "execution_count": 83,
   "metadata": {},
   "outputs": [
    {
     "name": "stdout",
     "output_type": "stream",
     "text": [
      "0.64596251741\n"
     ]
    }
   ],
   "source": [
    "#Evaluate the goodness-of-fit of this line\n",
    "print((r_value)**2)"
   ]
  },
  {
   "cell_type": "markdown",
   "metadata": {},
   "source": [
    "Although the r-squared value is higher than 0.5, by inspection the gap between the scattered points and the best-fit-line is quite wide. Hence it could be concluded that this line is a good prediction of the decreasing trend of survival rate as the ages of passengers go up but not very decent for numerical predictions."
   ]
  },
  {
   "cell_type": "markdown",
   "metadata": {},
   "source": [
    "The next attribute to investigate is the passenger's class."
   ]
  },
  {
   "cell_type": "code",
   "execution_count": 84,
   "metadata": {},
   "outputs": [
    {
     "data": {
      "text/plain": [
       "<matplotlib.axes._subplots.AxesSubplot at 0x254f20ba0f0>"
      ]
     },
     "execution_count": 84,
     "metadata": {},
     "output_type": "execute_result"
    },
    {
     "data": {
      "image/png": "[encoded data removed]",
      "text/plain": [
       "<matplotlib.figure.Figure at 0x254f1a66550>"
      ]
     },
     "metadata": {},
     "output_type": "display_data"
    }
   ],
   "source": [
    "df['Pclass'].hist(bins=3, range=(1,3))"
   ]
  },
  {
   "cell_type": "markdown",
   "metadata": {},
   "source": [
    "The histogram above shows that the 3rd class accommodate the largest number of people which is a bit less than 500, while the other two classes hold around 200 passengers each. The number of passengers in the 1st class is slightly higher than the 2nd.\n",
    "The next step is to look at the survival rate of each class. Since the data for this attribute is complete. All passengers are considered in this case."
   ]
  },
  {
   "cell_type": "code",
   "execution_count": 85,
   "metadata": {},
   "outputs": [
    {
     "name": "stdout",
     "output_type": "stream",
     "text": [
      "   Number of passengers  Number of survivals Pclass  Survival rate/%\n",
      "0                   216                  136      1               62\n",
      "1                   184                   87      2               47\n",
      "2                   491                  119      3               24\n"
     ]
    }
   ],
   "source": [
    "#divide all the passengers with their class of ticket\n",
    "mask2 = [df.Pclass==1, df.Pclass==2,df.Pclass==3]\n",
    "\n",
    "#number of passengers in each class\n",
    "N_p_c = []\n",
    "\n",
    "#number of survivals in each age group\n",
    "N_s_c = []\n",
    "\n",
    "#the survival rate of each group.\n",
    "S_r_c = []\n",
    "\n",
    "for i in range(len(mask2)):\n",
    "    n_p = df[mask2[i]]['Survived'].value_counts().sum()\n",
    "    n_s = df[mask2[i]]['Survived'].value_counts()[1]\n",
    "    s_r = n_s / n_p\n",
    "    s_r = int(s_r * 100)\n",
    "    N_p_c.append(n_p)\n",
    "    N_s_c.append(n_s)\n",
    "    S_r_c.append(s_r)\n",
    "\n",
    "#present these values in a table\n",
    "df3 = pd.DataFrame({'Pclass':['1','2','3'],\n",
    "                   'Number of passengers':N_p_c,'Number of survivals':N_s_c,'Survival rate/%':S_r_c})\n",
    "print(df3)"
   ]
  },
  {
   "cell_type": "markdown",
   "metadata": {},
   "source": [
    "The table above shows that the survival rate of the 1st class passengers is the highest and this applies to its number of survivals as well, although only a quater of passengers hold 1st class tickets. Around half of passengers in 2dn class and a quater on the 3rd class survived.\n",
    "\n",
    "By inspection of the figures, no linear relationship between the class and the survival rate is spotted. Therefore it is concluded here that the survival rate declines as the order of class increases,"
   ]
  },
  {
   "cell_type": "markdown",
   "metadata": {},
   "source": [
    "The last attribute to look at here is the fares paid by passengers."
   ]
  },
  {
   "cell_type": "code",
   "execution_count": 86,
   "metadata": {},
   "outputs": [
    {
     "name": "stdout",
     "output_type": "stream",
     "text": [
      "512.3292 0.0\n"
     ]
    }
   ],
   "source": [
    "#get the range of fare\n",
    "print(df['Fare'].max(),df['Fare'].min())"
   ]
  },
  {
   "cell_type": "code",
   "execution_count": 87,
   "metadata": {},
   "outputs": [
    {
     "data": {
      "text/plain": [
       "<matplotlib.axes._subplots.AxesSubplot at 0x254f3569208>"
      ]
     },
     "execution_count": 87,
     "metadata": {},
     "output_type": "execute_result"
    },
    {
     "data": {
      "image/png": "[encoded data removed]",
      "text/plain": [
       "<matplotlib.figure.Figure at 0x254f353bb38>"
      ]
     },
     "metadata": {},
     "output_type": "display_data"
    }
   ],
   "source": [
    "df['Fare'].hist(bins=52, range=(0,520))"
   ]
  },
  {
   "cell_type": "markdown",
   "metadata": {},
   "source": [
    "This histogram shows that majority of the passengers paid fares with amounts ranging from 0 to 100. More than 330 passengers paid fare 0-10. \n",
    "\n",
    "Same as the case of attribute age, considering the wide range of fare amount and the gap between the last two bins, the passengers are not divided into groups of evenly distributed numbers."
   ]
  },
  {
   "cell_type": "code",
   "execution_count": 88,
   "metadata": {},
   "outputs": [
    {
     "name": "stdout",
     "output_type": "stream",
     "text": [
      "       Fare  Number of passengers  Number of survivals  Survival rate/%\n",
      "0      0-10                   336                   67               19\n",
      "1     10-20                   179                   76               42\n",
      "2     20-30                   136                   58               42\n",
      "3     30-40                    64                   28               43\n",
      "4     40-50                    15                    4               26\n",
      "5     50-60                    39                   27               69\n",
      "6     60-70                    17                    6               35\n",
      "7     70-80                    29                   17               58\n",
      "8     80-90                    15                   13               86\n",
      "9    90-100                     8                    7               87\n",
      "10  100-200                    33                   25               75\n",
      "11  200-520                    20                   14               70\n"
     ]
    }
   ],
   "source": [
    "#divide all the passengers with fares paid\n",
    "mask3 = [df.Fare<10,\n",
    "        (df['Fare']>=10) & (df['Fare']<20),\n",
    "        (df['Fare']>=20) & (df['Fare']<30),\n",
    "        (df['Fare']>=30) & (df['Fare']<40),\n",
    "        (df['Fare']>=40) & (df['Fare']<50),\n",
    "        (df['Fare']>=50) & (df['Fare']<60),\n",
    "        (df['Fare']>=60) & (df['Fare']<70),\n",
    "        (df['Fare']>=70) & (df['Fare']<80),\n",
    "        (df['Fare']>=80) & (df['Fare']<90),\n",
    "        (df['Fare']>=90) & (df['Fare']<100),\n",
    "        (df['Fare']>=100) & (df['Fare']<200),\n",
    "        (df['Fare']>=200) & (df['Fare']<520)]\n",
    "\n",
    "#number of passengers in each class\n",
    "N_p_f = []\n",
    "\n",
    "#number of survivals in each age group\n",
    "N_s_f = []\n",
    "\n",
    "#the survival rate of each group.\n",
    "S_r_f = []\n",
    "\n",
    "for i in range(len(mask3)):\n",
    "    n_p = df[mask3[i]]['Survived'].value_counts().sum()\n",
    "    n_s = df[mask3[i]]['Survived'].value_counts()[1]\n",
    "    s_r = n_s / n_p\n",
    "    s_r = int(s_r * 100)\n",
    "    N_p_f.append(n_p)\n",
    "    N_s_f.append(n_s)\n",
    "    S_r_f.append(s_r)\n",
    "\n",
    "#present these values in a table\n",
    "df4 = pd.DataFrame({'Fare':['0-10','10-20','20-30','30-40','40-50','50-60','60-70','70-80','80-90','90-100','100-200','200-520'],\n",
    "                   'Number of passengers':N_p_f,'Number of survivals':N_s_f,'Survival rate/%':S_r_f})\n",
    "print(df4)"
   ]
  },
  {
   "cell_type": "markdown",
   "metadata": {},
   "source": [
    "Although the survival rate is not the highest (76%), the group with fare paid amount of 10-20 has the largest number of survivals. In spite of the second highest number of survivals, the group who paid the least fare i.e. 0-10 has the lowest survival rate as much as 67%. Group 50-60 has got the highest survival rate of 69% despite the amount of survivals doesnot really stand out.\n",
    "\n",
    "Below is the figure of the scattered data and the best-fit line."
   ]
  },
  {
   "cell_type": "code",
   "execution_count": 89,
   "metadata": {},
   "outputs": [
    {
     "data": {
      "image/png": "[encoded data removed]",
      "text/plain": [
       "<matplotlib.figure.Figure at 0x254f36d2240>"
      ]
     },
     "metadata": {},
     "output_type": "display_data"
    }
   ],
   "source": [
    "#represent the fare groups with numbers from 0 to 12, meaning 0-10, 10-20,20-30 ect.\n",
    "xi = arange(0,12)\n",
    "A = array([ xi, ones(12)])\n",
    "\n",
    "# y-axis represents the survival rate of the corresponding fare group\n",
    "y = S_r_f\n",
    "\n",
    "# Generated linear fit\n",
    "slope, intercept, r_value, p_value, std_err = stats.linregress(xi,y)\n",
    "line = slope*xi+intercept\n",
    "\n",
    "plt.plot(xi, y, 'o', label='original data')\n",
    "plt.plot(xi, intercept + slope*xi, 'r', label='fitted line')\n",
    "plt.legend()\n",
    "plt.show()"
   ]
  },
  {
   "cell_type": "code",
   "execution_count": 90,
   "metadata": {},
   "outputs": [
    {
     "name": "stdout",
     "output_type": "stream",
     "text": [
      "0.630624379624\n"
     ]
    }
   ],
   "source": [
    "#goodness-of-fit\n",
    "print((r_value)**2)"
   ]
  },
  {
   "cell_type": "markdown",
   "metadata": {},
   "source": [
    "Similar to the case of age, whilst the r-squared value is larger than 0.5, the line in this figure is only good enough for qualitive prediction but not for quantative, considering the gap between the observed results and the corresponding predicted results on the line."
   ]
  },
  {
   "cell_type": "markdown",
   "metadata": {},
   "source": [
    "By investigating three attributes of passengers onboard Titanic, it is found that the survival rate drops while the age of passengers and order of class increase, and that it increases as the fares paid go up. A higher age might not be advantegeous for survival.\n",
    "\n",
    "Two lines of best-fit are generate to give qualitative prediction of survival rate based on age and fare, and neither of them is good enough for quantative predictions."
   ]
  }
 ],
 "metadata": {
  "kernelspec": {
   "display_name": "Python 3",
   "language": "python",
   "name": "python3"
  },
  "language_info": {
   "codemirror_mode": {
    "name": "ipython",
    "version": 3
   },
   "file_extension": ".py",
   "mimetype": "text/x-python",
   "name": "python",
   "nbconvert_exporter": "python",
   "pygments_lexer": "ipython3",
   "version": "3.6.1"
  }
 },
 "nbformat": 4,
 "nbformat_minor": 2
}
