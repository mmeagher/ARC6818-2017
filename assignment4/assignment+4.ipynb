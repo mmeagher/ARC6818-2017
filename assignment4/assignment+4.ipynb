{
 "cells": [
  {
   "cell_type": "code",
   "execution_count": 536,
   "metadata": {
    "collapsed": true
   },
   "outputs": [],
   "source": [
    "import pandas as pd\n",
    "import matplotlib.pyplot as plt"
   ]
  },
  {
   "cell_type": "code",
   "execution_count": 537,
   "metadata": {},
   "outputs": [],
   "source": [
    "train_df = pd.read_csv('train.csv', header=0)"
   ]
  },
  {
   "cell_type": "code",
   "execution_count": 538,
   "metadata": {
    "scrolled": true
   },
   "outputs": [
    {
     "name": "stdout",
     "output_type": "stream",
     "text": [
      "<class 'pandas.core.frame.DataFrame'>\n",
      "RangeIndex: 891 entries, 0 to 890\n",
      "Data columns (total 12 columns):\n",
      "PassengerId    891 non-null int64\n",
      "Survived       891 non-null int64\n",
      "Pclass         891 non-null int64\n",
      "Name           891 non-null object\n",
      "Sex            891 non-null object\n",
      "Age            714 non-null float64\n",
      "SibSp          891 non-null int64\n",
      "Parch          891 non-null int64\n",
      "Ticket         891 non-null object\n",
      "Fare           891 non-null float64\n",
      "Cabin          204 non-null object\n",
      "Embarked       889 non-null object\n",
      "dtypes: float64(2), int64(5), object(5)\n",
      "memory usage: 83.6+ KB\n"
     ]
    }
   ],
   "source": [
    "train_df.info()"
   ]
  },
  {
   "cell_type": "code",
   "execution_count": 539,
   "metadata": {},
   "outputs": [],
   "source": [
    "train_df = train_df.drop(['PassengerId','Name','SibSp','Parch','Ticket','Embarked'], axis = 1)"
   ]
  },
  {
   "cell_type": "code",
   "execution_count": 540,
   "metadata": {},
   "outputs": [
    {
     "name": "stdout",
     "output_type": "stream",
     "text": [
      "<class 'pandas.core.frame.DataFrame'>\n",
      "RangeIndex: 891 entries, 0 to 890\n",
      "Data columns (total 6 columns):\n",
      "Survived    891 non-null int64\n",
      "Pclass      891 non-null int64\n",
      "Sex         891 non-null object\n",
      "Age         714 non-null float64\n",
      "Fare        891 non-null float64\n",
      "Cabin       204 non-null object\n",
      "dtypes: float64(2), int64(2), object(2)\n",
      "memory usage: 41.8+ KB\n"
     ]
    }
   ],
   "source": [
    "train_df.info()"
   ]
  },
  {
   "cell_type": "markdown",
   "metadata": {},
   "source": [
    "Now try to find the relationship between chance of survive and passenger's class"
   ]
  },
  {
   "cell_type": "code",
   "execution_count": 541,
   "metadata": {},
   "outputs": [
    {
     "data": {
      "image/png": "[encoded data removed]",
      "text/plain": [
       "<matplotlib.figure.Figure at 0x200f1b14320>"
      ]
     },
     "metadata": {},
     "output_type": "display_data"
    },
    {
     "data": {
      "text/html": [
       "<div>\n",
       "<style>\n",
       "    .dataframe thead tr:only-child th {\n",
       "        text-align: right;\n",
       "    }\n",
       "\n",
       "    .dataframe thead th {\n",
       "        text-align: left;\n",
       "    }\n",
       "\n",
       "    .dataframe tbody tr th {\n",
       "        vertical-align: top;\n",
       "    }\n",
       "</style>\n",
       "<table border=\"1\" class=\"dataframe\">\n",
       "  <thead>\n",
       "    <tr style=\"text-align: right;\">\n",
       "      <th></th>\n",
       "      <th>PassengerNum</th>\n",
       "      <th>Pclass</th>\n",
       "      <th>Survived</th>\n",
       "      <th>Ratio</th>\n",
       "    </tr>\n",
       "    <tr>\n",
       "      <th>Pclass</th>\n",
       "      <th></th>\n",
       "      <th></th>\n",
       "      <th></th>\n",
       "      <th></th>\n",
       "    </tr>\n",
       "  </thead>\n",
       "  <tbody>\n",
       "    <tr>\n",
       "      <th>1</th>\n",
       "      <td>216</td>\n",
       "      <td>1</td>\n",
       "      <td>136</td>\n",
       "      <td>0.629630</td>\n",
       "    </tr>\n",
       "    <tr>\n",
       "      <th>2</th>\n",
       "      <td>184</td>\n",
       "      <td>2</td>\n",
       "      <td>87</td>\n",
       "      <td>0.472826</td>\n",
       "    </tr>\n",
       "    <tr>\n",
       "      <th>3</th>\n",
       "      <td>491</td>\n",
       "      <td>3</td>\n",
       "      <td>119</td>\n",
       "      <td>0.242363</td>\n",
       "    </tr>\n",
       "  </tbody>\n",
       "</table>\n",
       "</div>"
      ],
      "text/plain": [
       "        PassengerNum  Pclass  Survived     Ratio\n",
       "Pclass                                          \n",
       "1                216       1       136  0.629630\n",
       "2                184       2        87  0.472826\n",
       "3                491       3       119  0.242363"
      ]
     },
     "execution_count": 541,
     "metadata": {},
     "output_type": "execute_result"
    }
   ],
   "source": [
    "PS = pd.DataFrame()\n",
    "\n",
    "PS['PassengerNum'] = train_df[['Pclass','Survived']].groupby(['Pclass'])['Survived'].count()\n",
    "PS['Pclass'] = PS.index.values\n",
    "PS['Survived'] = train_df[['Pclass','Survived']].groupby(['Pclass'])['Survived'].sum()\n",
    "PS['Ratio'] = PS.Survived / PS.PassengerNum\n",
    "\n",
    "plt.figure(figsize= (10, 5))\n",
    "plt.subplot (121)\n",
    "plt.pie(PS['Survived'], labels= PS['Pclass'], pctdistance=0.5, radius=1.1, autopct='%1.0f%%')\n",
    "plt.title('Survived Passengers')\n",
    "\n",
    "plt.subplot (122)\n",
    "plt.pie(PS['PassengerNum'], labels= PS['Pclass'], pctdistance= 0.5, radius=1.1, autopct='%1.0f%%')\n",
    "plt.title('Total Passengers')\n",
    "\n",
    "plt.show()\n",
    "\n",
    "PS"
   ]
  },
  {
   "cell_type": "markdown",
   "metadata": {},
   "source": [
    "# From above figure and table, we can easily found that the first class passenger have the highest chance surviving and the surviving ratio is decrease with the tclass of ticket."
   ]
  },
  {
   "cell_type": "markdown",
   "metadata": {},
   "source": [
    "Now try to find the relationship between chance of survive and passenger's age"
   ]
  },
  {
   "cell_type": "code",
   "execution_count": 542,
   "metadata": {},
   "outputs": [
    {
     "data": {
      "image/png": "[encoded data removed]",
      "text/plain": [
       "<matplotlib.figure.Figure at 0x200eca660f0>"
      ]
     },
     "metadata": {},
     "output_type": "display_data"
    },
    {
     "data": {
      "text/html": [
       "<div>\n",
       "<style>\n",
       "    .dataframe thead tr:only-child th {\n",
       "        text-align: right;\n",
       "    }\n",
       "\n",
       "    .dataframe thead th {\n",
       "        text-align: left;\n",
       "    }\n",
       "\n",
       "    .dataframe tbody tr th {\n",
       "        vertical-align: top;\n",
       "    }\n",
       "</style>\n",
       "<table border=\"1\" class=\"dataframe\">\n",
       "  <thead>\n",
       "    <tr style=\"text-align: right;\">\n",
       "      <th></th>\n",
       "      <th>PassengerNum</th>\n",
       "      <th>AgeGroup</th>\n",
       "      <th>Survived</th>\n",
       "      <th>Ratio</th>\n",
       "    </tr>\n",
       "    <tr>\n",
       "      <th>AgeGroup</th>\n",
       "      <th></th>\n",
       "      <th></th>\n",
       "      <th></th>\n",
       "      <th></th>\n",
       "    </tr>\n",
       "  </thead>\n",
       "  <tbody>\n",
       "    <tr>\n",
       "      <th>1</th>\n",
       "      <td>113</td>\n",
       "      <td>1</td>\n",
       "      <td>61</td>\n",
       "      <td>0.539823</td>\n",
       "    </tr>\n",
       "    <tr>\n",
       "      <th>2</th>\n",
       "      <td>11</td>\n",
       "      <td>2</td>\n",
       "      <td>1</td>\n",
       "      <td>0.090909</td>\n",
       "    </tr>\n",
       "    <tr>\n",
       "      <th>3</th>\n",
       "      <td>767</td>\n",
       "      <td>3</td>\n",
       "      <td>280</td>\n",
       "      <td>0.365059</td>\n",
       "    </tr>\n",
       "  </tbody>\n",
       "</table>\n",
       "</div>"
      ],
      "text/plain": [
       "          PassengerNum  AgeGroup  Survived     Ratio\n",
       "AgeGroup                                            \n",
       "1                  113         1        61  0.539823\n",
       "2                   11         2         1  0.090909\n",
       "3                  767         3       280  0.365059"
      ]
     },
     "execution_count": 542,
     "metadata": {},
     "output_type": "execute_result"
    }
   ],
   "source": [
    "df['AgeGroup'] = 0\n",
    "\n",
    "def f(row):\n",
    "    if row['Age'] < 18:\n",
    "        val = 1\n",
    "    elif row['Age'] >= 65:\n",
    "        val = 2\n",
    "    else:\n",
    "        val = 3\n",
    "    return val\n",
    "\n",
    "df['AgeGroup'] = df.apply(f,axis=1)\n",
    "\n",
    "AG = pd.DataFrame()\n",
    "AG['PassengerNum'] = df[['AgeGroup','Survived']].groupby(['AgeGroup'])['Survived'].count()\n",
    "AG['AgeGroup'] = AG.index.values\n",
    "AG['Survived'] = df[['AgeGroup','Survived']].groupby(['AgeGroup'])['Survived'].sum()\n",
    "AG['Ratio'] = AG.Survived / AG.PassengerNum\n",
    "\n",
    "fig = plt.figure()\n",
    "ax = fig.add_subplot(111)\n",
    "ax2 = ax.twinx()\n",
    "\n",
    "width = 0.5\n",
    "\n",
    "AG.Survived.plot(kind='bar', color='green', ax=ax)\n",
    "AG.PassengerNum.plot(kind='bar', color='red', ax=ax2, width=width, position=0)\n",
    "\n",
    "ax.set_ylim(0,max(AG.PassengerNum))\n",
    "ax2.set_ylim(0,max(AG.PassengerNum))\n",
    "\n",
    "plt.show()\n",
    "AG"
   ]
  },
  {
   "cell_type": "markdown",
   "metadata": {},
   "source": [
    "# From above figure and table, we can easily found children have highest surviving ratio and lowest chance was given to the elder."
   ]
  },
  {
   "cell_type": "code",
   "execution_count": 543,
   "metadata": {
    "scrolled": true
   },
   "outputs": [
    {
     "data": {
      "image/png": "[encoded data removed]",
      "text/plain": [
       "<matplotlib.figure.Figure at 0x200eed6db00>"
      ]
     },
     "metadata": {},
     "output_type": "display_data"
    },
    {
     "data": {
      "text/html": [
       "<div>\n",
       "<style>\n",
       "    .dataframe thead tr:only-child th {\n",
       "        text-align: right;\n",
       "    }\n",
       "\n",
       "    .dataframe thead th {\n",
       "        text-align: left;\n",
       "    }\n",
       "\n",
       "    .dataframe tbody tr th {\n",
       "        vertical-align: top;\n",
       "    }\n",
       "</style>\n",
       "<table border=\"1\" class=\"dataframe\">\n",
       "  <thead>\n",
       "    <tr style=\"text-align: right;\">\n",
       "      <th></th>\n",
       "      <th>Survivor</th>\n",
       "      <th>Gender</th>\n",
       "      <th>PassengerNum</th>\n",
       "      <th>Ratio</th>\n",
       "    </tr>\n",
       "    <tr>\n",
       "      <th>Gender</th>\n",
       "      <th></th>\n",
       "      <th></th>\n",
       "      <th></th>\n",
       "      <th></th>\n",
       "    </tr>\n",
       "  </thead>\n",
       "  <tbody>\n",
       "    <tr>\n",
       "      <th>0</th>\n",
       "      <td>109</td>\n",
       "      <td>0</td>\n",
       "      <td>577</td>\n",
       "      <td>18.890815</td>\n",
       "    </tr>\n",
       "    <tr>\n",
       "      <th>1</th>\n",
       "      <td>233</td>\n",
       "      <td>1</td>\n",
       "      <td>314</td>\n",
       "      <td>74.203822</td>\n",
       "    </tr>\n",
       "  </tbody>\n",
       "</table>\n",
       "</div>"
      ],
      "text/plain": [
       "        Survivor  Gender  PassengerNum      Ratio\n",
       "Gender                                           \n",
       "0            109       0           577  18.890815\n",
       "1            233       1           314  74.203822"
      ]
     },
     "execution_count": 543,
     "metadata": {},
     "output_type": "execute_result"
    }
   ],
   "source": [
    "GE = pd.DataFrame()\n",
    "\n",
    "\n",
    "GE['PassengerNum'] = train_df[['Survived','Sex']].groupby(['Sex'])['Survived'].count()\n",
    "GE['Gender'] = GE.index.get_level_values(0)\n",
    "GE['Gender'] = GE.Gender.map({'female' : 1, 'male' : 0}).astype(int)\n",
    "GE['Survived'] = train_df[['Survived','Sex']].groupby(['Sex'])['Survived'].sum()\n",
    "                                                           \n",
    "GE2 = pd.DataFrame()\n",
    "                                                           \n",
    "GE2['Survivor'] = GE[['Survived','Gender']].groupby(['Gender'])['Survived'].sum()\n",
    "GE2['Gender'] = GE2.index.values\n",
    "GE2['PassengerNum'] = GE[['PassengerNum','Gender']].groupby(['Gender'])['PassengerNum'].sum()\n",
    "GE2['Ratio'] = GE2.Survivor / GE2.PassengerNum * 100\n",
    "\n",
    "fig = plt.figure()\n",
    "ax = fig.add_subplot(111)\n",
    "ax2 = ax.twinx()\n",
    "\n",
    "width =0.3\n",
    "\n",
    "GE2.Survivor.plot(kind='bar', color='red', ax=ax)\n",
    "GE2.PassengerNum.plot(kind='bar', color='blue', ax=ax2, width=width, position=0)\n",
    "\n",
    "ax.set_ylim(0,max(GE2.PassengerNum))\n",
    "ax2.set_ylim(0,max(GE2.PassengerNum))\n",
    "ax.set_xlabel('Sex: Male (0) and Female (1)')\n",
    "\n",
    "plt.show()\n",
    "GE2"
   ]
  },
  {
   "cell_type": "markdown",
   "metadata": {},
   "source": [
    "#  Therefore from the graph and table above, we cam found that the female's survived rate is more great than male."
   ]
  },
  {
   "cell_type": "markdown",
   "metadata": {},
   "source": [
    "Now try to find how traveling with family member will affects the surviving ratio"
   ]
  },
  {
   "cell_type": "code",
   "execution_count": 544,
   "metadata": {},
   "outputs": [
    {
     "data": {
      "image/png": "[encoded data removed]",
      "text/plain": [
       "<matplotlib.figure.Figure at 0x200f39cd5c0>"
      ]
     },
     "metadata": {},
     "output_type": "display_data"
    },
    {
     "data": {
      "text/html": [
       "<div>\n",
       "<style>\n",
       "    .dataframe thead tr:only-child th {\n",
       "        text-align: right;\n",
       "    }\n",
       "\n",
       "    .dataframe thead th {\n",
       "        text-align: left;\n",
       "    }\n",
       "\n",
       "    .dataframe tbody tr th {\n",
       "        vertical-align: top;\n",
       "    }\n",
       "</style>\n",
       "<table border=\"1\" class=\"dataframe\">\n",
       "  <thead>\n",
       "    <tr style=\"text-align: right;\">\n",
       "      <th></th>\n",
       "      <th>PassengerNum</th>\n",
       "      <th>FamSize</th>\n",
       "      <th>Survived</th>\n",
       "      <th>Ratio</th>\n",
       "    </tr>\n",
       "    <tr>\n",
       "      <th>FamilySize</th>\n",
       "      <th></th>\n",
       "      <th></th>\n",
       "      <th></th>\n",
       "      <th></th>\n",
       "    </tr>\n",
       "  </thead>\n",
       "  <tbody>\n",
       "    <tr>\n",
       "      <th>1</th>\n",
       "      <td>537</td>\n",
       "      <td>1</td>\n",
       "      <td>163</td>\n",
       "      <td>0.303538</td>\n",
       "    </tr>\n",
       "    <tr>\n",
       "      <th>2</th>\n",
       "      <td>161</td>\n",
       "      <td>2</td>\n",
       "      <td>89</td>\n",
       "      <td>0.552795</td>\n",
       "    </tr>\n",
       "    <tr>\n",
       "      <th>3</th>\n",
       "      <td>102</td>\n",
       "      <td>3</td>\n",
       "      <td>59</td>\n",
       "      <td>0.578431</td>\n",
       "    </tr>\n",
       "    <tr>\n",
       "      <th>4</th>\n",
       "      <td>29</td>\n",
       "      <td>4</td>\n",
       "      <td>21</td>\n",
       "      <td>0.724138</td>\n",
       "    </tr>\n",
       "    <tr>\n",
       "      <th>5</th>\n",
       "      <td>15</td>\n",
       "      <td>5</td>\n",
       "      <td>3</td>\n",
       "      <td>0.200000</td>\n",
       "    </tr>\n",
       "    <tr>\n",
       "      <th>6</th>\n",
       "      <td>22</td>\n",
       "      <td>6</td>\n",
       "      <td>3</td>\n",
       "      <td>0.136364</td>\n",
       "    </tr>\n",
       "    <tr>\n",
       "      <th>7</th>\n",
       "      <td>12</td>\n",
       "      <td>7</td>\n",
       "      <td>4</td>\n",
       "      <td>0.333333</td>\n",
       "    </tr>\n",
       "    <tr>\n",
       "      <th>8</th>\n",
       "      <td>6</td>\n",
       "      <td>8</td>\n",
       "      <td>0</td>\n",
       "      <td>0.000000</td>\n",
       "    </tr>\n",
       "    <tr>\n",
       "      <th>11</th>\n",
       "      <td>7</td>\n",
       "      <td>11</td>\n",
       "      <td>0</td>\n",
       "      <td>0.000000</td>\n",
       "    </tr>\n",
       "  </tbody>\n",
       "</table>\n",
       "</div>"
      ],
      "text/plain": [
       "            PassengerNum  FamSize  Survived     Ratio\n",
       "FamilySize                                           \n",
       "1                    537        1       163  0.303538\n",
       "2                    161        2        89  0.552795\n",
       "3                    102        3        59  0.578431\n",
       "4                     29        4        21  0.724138\n",
       "5                     15        5         3  0.200000\n",
       "6                     22        6         3  0.136364\n",
       "7                     12        7         4  0.333333\n",
       "8                      6        8         0  0.000000\n",
       "11                     7       11         0  0.000000"
      ]
     },
     "execution_count": 544,
     "metadata": {},
     "output_type": "execute_result"
    }
   ],
   "source": [
    "df['FamilySize'] = df['SibSp'] + df['Parch'] + 1\n",
    "\n",
    "FM = pd.DataFrame()\n",
    "FM['PassengerNum'] = df[['FamilySize','Survived']].groupby(['FamilySize'])['Survived'].count()\n",
    "FM['FamSize'] = FM.index.values\n",
    "FM['Survived'] = df[['FamilySize','Survived']].groupby(['FamilySize'])['Survived'].sum()\n",
    "FM['Ratio'] = FM.Survived / FM.PassengerNum\n",
    "\n",
    "fig = plt.figure()\n",
    "ax = fig.add_subplot(111)\n",
    "\n",
    "width = 1\n",
    "\n",
    "FM.FamSize.plot(kind='line', color='green', ax=ax, label = 'Family Size')\n",
    "FM.Ratio.plot(kind='line', color='red', ax=ax, label = 'Ratio')\n",
    "ax.legend()\n",
    "\n",
    "ax.scatter(FM.FamSize,FM.Survived, color='green')\n",
    "ax.scatter(FM.FamSize,FM.PassengerNum, color='red')\n",
    "\n",
    "plt.show()\n",
    "FM"
   ]
  },
  {
   "cell_type": "markdown",
   "metadata": {},
   "source": [
    "# Therefore, from the figure and table above, we can found that famililes have 4 members have the highest chance to survive and family member between 2-4 will have advantageous for survival. While almost no member survived in biggest families. "
   ]
  },
  {
   "cell_type": "markdown",
   "metadata": {},
   "source": [
    "Now try to find the relationship between passenger's cabin and chance of survive"
   ]
  },
  {
   "cell_type": "code",
   "execution_count": 545,
   "metadata": {},
   "outputs": [
    {
     "data": {
      "text/html": [
       "<div>\n",
       "<style>\n",
       "    .dataframe thead tr:only-child th {\n",
       "        text-align: right;\n",
       "    }\n",
       "\n",
       "    .dataframe thead th {\n",
       "        text-align: left;\n",
       "    }\n",
       "\n",
       "    .dataframe tbody tr th {\n",
       "        vertical-align: top;\n",
       "    }\n",
       "</style>\n",
       "<table border=\"1\" class=\"dataframe\">\n",
       "  <thead>\n",
       "    <tr style=\"text-align: right;\">\n",
       "      <th></th>\n",
       "      <th>PassengerNum</th>\n",
       "      <th>Survived</th>\n",
       "      <th>Ratio</th>\n",
       "    </tr>\n",
       "    <tr>\n",
       "      <th>Cabin Index</th>\n",
       "      <th></th>\n",
       "      <th></th>\n",
       "      <th></th>\n",
       "    </tr>\n",
       "  </thead>\n",
       "  <tbody>\n",
       "    <tr>\n",
       "      <th>A</th>\n",
       "      <td>15</td>\n",
       "      <td>7</td>\n",
       "      <td>0.466667</td>\n",
       "    </tr>\n",
       "    <tr>\n",
       "      <th>B</th>\n",
       "      <td>47</td>\n",
       "      <td>35</td>\n",
       "      <td>0.744681</td>\n",
       "    </tr>\n",
       "    <tr>\n",
       "      <th>C</th>\n",
       "      <td>59</td>\n",
       "      <td>35</td>\n",
       "      <td>0.593220</td>\n",
       "    </tr>\n",
       "    <tr>\n",
       "      <th>D</th>\n",
       "      <td>33</td>\n",
       "      <td>25</td>\n",
       "      <td>0.757576</td>\n",
       "    </tr>\n",
       "    <tr>\n",
       "      <th>E</th>\n",
       "      <td>32</td>\n",
       "      <td>24</td>\n",
       "      <td>0.750000</td>\n",
       "    </tr>\n",
       "    <tr>\n",
       "      <th>F</th>\n",
       "      <td>13</td>\n",
       "      <td>8</td>\n",
       "      <td>0.615385</td>\n",
       "    </tr>\n",
       "    <tr>\n",
       "      <th>G</th>\n",
       "      <td>4</td>\n",
       "      <td>2</td>\n",
       "      <td>0.500000</td>\n",
       "    </tr>\n",
       "    <tr>\n",
       "      <th>T</th>\n",
       "      <td>1</td>\n",
       "      <td>0</td>\n",
       "      <td>0.000000</td>\n",
       "    </tr>\n",
       "  </tbody>\n",
       "</table>\n",
       "</div>"
      ],
      "text/plain": [
       "             PassengerNum  Survived     Ratio\n",
       "Cabin Index                                  \n",
       "A                      15         7  0.466667\n",
       "B                      47        35  0.744681\n",
       "C                      59        35  0.593220\n",
       "D                      33        25  0.757576\n",
       "E                      32        24  0.750000\n",
       "F                      13         8  0.615385\n",
       "G                       4         2  0.500000\n",
       "T                       1         0  0.000000"
      ]
     },
     "execution_count": 545,
     "metadata": {},
     "output_type": "execute_result"
    }
   ],
   "source": [
    "df.loc[df['Cabin'].notnull(), 'Cabin Index'] = df['Cabin'].str[0]\n",
    "\n",
    "CB = pd.DataFrame()\n",
    "CB['PassengerNum'] = df[['Cabin Index','Survived']].groupby(['Cabin Index'])['Survived'].count()\n",
    "CB['Survived'] = df[['Cabin Index','Survived']].groupby(['Cabin Index'])['Survived'].sum()\n",
    "CB['Ratio'] = CB.Survived / CB.PassengerNum \n",
    "CB"
   ]
  },
  {
   "cell_type": "markdown",
   "metadata": {},
   "source": [
    "# Therefore, from above table, the passenger from cabin B,D and E have the highest suviving ratio. But it is lost so many datas from cabin columns."
   ]
  },
  {
   "cell_type": "code",
   "execution_count": 546,
   "metadata": {},
   "outputs": [
    {
     "name": "stdout",
     "output_type": "stream",
     "text": [
      "Most survivor are:\n",
      "\n",
      "From Class:  1\n",
      "Have the gender:  female\n",
      "In the age group:  adult\n",
      "Be with a family of:  1 people\n",
      "In the cabin:  C\n",
      "\n",
      "Most people that did not survive are:\n",
      "\n",
      "From Class:  3\n",
      "Have the gender:  male\n",
      "In the age group:  adult\n",
      "Be with a family of:  1 people\n",
      "In the cabin:  C\n"
     ]
    }
   ],
   "source": [
    "S = pd.DataFrame()\n",
    "D = pd.DataFrame()\n",
    "\n",
    "S = df[df.Survived==1]\n",
    "D = df[df.Survived==0]\n",
    "\n",
    "\n",
    "print('Most survivor are:')\n",
    "print()\n",
    "print('From Class: ', S['Pclass'].value_counts(sort=True).index[0])\n",
    "print('Have the gender: ', S['Sex'].value_counts(sort=True).index[0])\n",
    "\n",
    "\n",
    "if S['AgeGroup'].value_counts(sort=True).index[0] == 1:\n",
    "    u = 'children'\n",
    "else: \n",
    "    if S['AgeGroup'].value_counts(sort=True).index[0] == 2:\n",
    "        u = 'elderly'\n",
    "    else: u ='adult'\n",
    "\n",
    "print('In the age group: ',u)\n",
    "print('Be with a family of: ',S['FamilySize'].value_counts(sort=True).index[0],'people')\n",
    "print('In the cabin: ',S['Cabin Index'].value_counts(sort=True).index[0])\n",
    "print()\n",
    "\n",
    "\n",
    "print('Most people that did not survive are:')\n",
    "print()\n",
    "print('From Class: ', D['Pclass'].value_counts(sort=True).index[0])\n",
    "print('Have the gender: ', D['Sex'].value_counts(sort=True).index[0])\n",
    "\n",
    "if D['AgeGroup'].value_counts(sort=True).index[0] == 1:\n",
    "    u = 'children'\n",
    "else: \n",
    "    if D['AgeGroup'].value_counts(sort=True).index[0] == 3:\n",
    "        u = 'adult'\n",
    "    else: u ='elderly'\n",
    "\n",
    "print('In the age group: ',u)\n",
    "print('Be with a family of: ',D['FamilySize'].value_counts(sort=True).index[0],'people')\n",
    "print('In the cabin: ',D['Cabin Index'].value_counts(sort=True).index[0])"
   ]
  },
  {
   "cell_type": "markdown",
   "metadata": {},
   "source": [
    "#  conclusion:\n",
    "1. Most of survivals are whom is female, children, traveling with 2-4 family member and the people from first class\n",
    "2. Most of died are whom is elder, male and single and the prople from third class."
   ]
  },
  {
   "cell_type": "code",
   "execution_count": null,
   "metadata": {
    "collapsed": true
   },
   "outputs": [],
   "source": []
  }
 ],
 "metadata": {
  "kernelspec": {
   "display_name": "Python 3",
   "language": "python",
   "name": "python3"
  },
  "language_info": {
   "codemirror_mode": {
    "name": "ipython",
    "version": 3
   },
   "file_extension": ".py",
   "mimetype": "text/x-python",
   "name": "python",
   "nbconvert_exporter": "python",
   "pygments_lexer": "ipython3",
   "version": "3.6.2"
  }
 },
 "nbformat": 4,
 "nbformat_minor": 2
}
