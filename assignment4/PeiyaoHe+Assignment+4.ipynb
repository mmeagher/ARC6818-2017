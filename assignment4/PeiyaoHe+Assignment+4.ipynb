{
 "cells": [
  {
   "cell_type": "markdown",
   "metadata": {},
   "source": [
    "# What can be learned about the chances of survival from the passenger's age,class,gender and family size?"
   ]
  },
  {
   "cell_type": "markdown",
   "metadata": {},
   "source": [
    "Formulate hypotheses 1,2,3 and 4\n",
    "\n",
    "1.The chances of survival is relavent about the pessenger's age and  middle-aged people are easier to survive because children and aged people are disavantaged.\n",
    "\n",
    "2.The chances of survival is relavent about the pessenger's class and the people who have higher class would survive easier.\n",
    "\n",
    "3.The chances of survival is relavent about the pessenger's gender and femal are easier to survive because they have better physical quality.\n",
    "\n",
    "4.The chances of survival is relavent about the pessenger's family size, the people who have lager family zise are easier to survive because they can protect and help each other."
   ]
  },
  {
   "cell_type": "code",
   "execution_count": 119,
   "metadata": {
    "collapsed": true
   },
   "outputs": [],
   "source": [
    "import pandas as pd\n",
    "import pylab as P\n",
    "import matplotlib.pyplot as plt"
   ]
  },
  {
   "cell_type": "code",
   "execution_count": 120,
   "metadata": {
    "collapsed": true
   },
   "outputs": [],
   "source": [
    "##Input the dateframe which called \"A\"\n",
    "##Definit the people who survived named \"a\"\n",
    "##Definit the new columes \"Gender\"and\"FamilySize\"\n",
    "\n",
    "A = df = pd.read_csv('train.csv', header=0)\n",
    "df['Gender'] = df['Sex'].map( {'female': 0, 'male': 1} ).astype(int)\n",
    "df['FamilySize'] = df['SibSp'] + df['Parch'] + 1\n",
    "a = A[A.Survived == 1]\n",
    "b = A[A.Survived == 0]\n",
    "%matplotlib inline"
   ]
  },
  {
   "cell_type": "markdown",
   "metadata": {},
   "source": [
    "# Overall information about the ratio of survived people"
   ]
  },
  {
   "cell_type": "code",
   "execution_count": 121,
   "metadata": {},
   "outputs": [
    {
     "data": {
      "image/png": "[encoded data removed]",
      "text/plain": [
       "<matplotlib.figure.Figure at 0x24576a48400>"
      ]
     },
     "metadata": {},
     "output_type": "display_data"
    }
   ],
   "source": [
    "##Sex column have no missing data, so we can count the survived people based on Sex.\n",
    "Survivor = a.Sex.count()\n",
    "Dead = b.Sex.count()\n",
    "\n",
    "fig1, ax1 = plt.subplots()\n",
    "ax1.pie(sizes, explode=explode, labels=labels, autopct='%1.1f%%',shadow=True,startangle=90)\n",
    "ax1.axis('equal')\n",
    "\n",
    "labels = 'Survivor', 'Dead'\n",
    "sizes = [Survivor, Dead]\n",
    "explode = (0.05, 0.05)\n",
    "\n",
    "plt.show()"
   ]
  },
  {
   "cell_type": "markdown",
   "metadata": {},
   "source": [
    "# Age"
   ]
  },
  {
   "cell_type": "code",
   "execution_count": 122,
   "metadata": {
    "scrolled": true
   },
   "outputs": [
    {
     "data": {
      "text/plain": [
       "<matplotlib.axes._subplots.AxesSubplot at 0x245767fe668>"
      ]
     },
     "execution_count": 122,
     "metadata": {},
     "output_type": "execute_result"
    },
    {
     "data": {
      "image/png": "[encoded data removed]",
      "text/plain": [
       "<matplotlib.figure.Figure at 0x245749e7550>"
      ]
     },
     "metadata": {},
     "output_type": "display_data"
    }
   ],
   "source": [
    "##Use the histdiagram to observe the proportion of survived poeple in different age group.\n",
    "\n",
    "A['Age'].plot.hist(bins=12,range=(0,60),ylim=(0,120))\n",
    "a['Age'].plot.hist(bins=12,range=(0,60),ylim=(0,120))"
   ]
  },
  {
   "cell_type": "markdown",
   "metadata": {},
   "source": [
    "The orange color symbolizes the people who survived, the “ blue color + orange color ” symbolizes the overall number of people.From the histdiagram, we can see roughly that youger people and aged people occupy larger proportion of people who survived in these different aged group.And then I will use the table to get the exact ratio to cheack the information."
   ]
  },
  {
   "cell_type": "code",
   "execution_count": 123,
   "metadata": {},
   "outputs": [
    {
     "data": {
      "text/html": [
       "<div>\n",
       "<style>\n",
       "    .dataframe thead tr:only-child th {\n",
       "        text-align: right;\n",
       "    }\n",
       "\n",
       "    .dataframe thead th {\n",
       "        text-align: left;\n",
       "    }\n",
       "\n",
       "    .dataframe tbody tr th {\n",
       "        vertical-align: top;\n",
       "    }\n",
       "</style>\n",
       "<table border=\"1\" class=\"dataframe\">\n",
       "  <thead>\n",
       "    <tr style=\"text-align: right;\">\n",
       "      <th></th>\n",
       "      <th>Survived</th>\n",
       "      <th>PeopleNumber</th>\n",
       "      <th>Ratio</th>\n",
       "    </tr>\n",
       "    <tr>\n",
       "      <th>Age_G</th>\n",
       "      <th></th>\n",
       "      <th></th>\n",
       "      <th></th>\n",
       "    </tr>\n",
       "  </thead>\n",
       "  <tbody>\n",
       "    <tr>\n",
       "      <th>1</th>\n",
       "      <td>49</td>\n",
       "      <td>83</td>\n",
       "      <td>59.036145</td>\n",
       "    </tr>\n",
       "    <tr>\n",
       "      <th>2</th>\n",
       "      <td>280</td>\n",
       "      <td>766</td>\n",
       "      <td>36.553525</td>\n",
       "    </tr>\n",
       "    <tr>\n",
       "      <th>3</th>\n",
       "      <td>13</td>\n",
       "      <td>42</td>\n",
       "      <td>30.952381</td>\n",
       "    </tr>\n",
       "  </tbody>\n",
       "</table>\n",
       "</div>"
      ],
      "text/plain": [
       "       Survived  PeopleNumber      Ratio\n",
       "Age_G                                   \n",
       "1            49            83  59.036145\n",
       "2           280           766  36.553525\n",
       "3            13            42  30.952381"
      ]
     },
     "execution_count": 123,
     "metadata": {},
     "output_type": "execute_result"
    }
   ],
   "source": [
    "##Divide the people in 3 age group.Definit the new columes \"Age_G\" which is used for sysbolizing the age group.\n",
    "##\"1\"means people who=< 15 years old\n",
    "##\"2\"means people who < 55 years old and > 15 years years old\n",
    "##\"3\"means people who=> 55 years old \n",
    "\n",
    "def Ageclassify(x):\n",
    "    if x['Age'] < 15.01 :\n",
    "        z = 1\n",
    "    elif x['Age'] > 54.99:\n",
    "        z = 3\n",
    "    else:\n",
    "        z = 2\n",
    "    return z\n",
    "\n",
    "df['Age_G'] = df.apply(Ageclassify,axis=1)\n",
    "Age_ratio = pd.DataFrame()\n",
    "Age_ratio['Survived'] = df[['Age_G','Survived']].groupby(['Age_G'])['Survived'].sum()\n",
    "Age_ratio['PeopleNumber'] = df[['Age_G','Survived']].groupby(['Age_G'])['Survived'].count()\n",
    "Age_ratio['Ratio'] = Age_ratio.Survived / Age_ratio.PeopleNumber * 100\n",
    "Age_ratio"
   ]
  },
  {
   "cell_type": "markdown",
   "metadata": {},
   "source": [
    "From the table, we can see the precise survived ratio of 3 different age group. The people who under 15 years old have more chance to survived.Age the middle-aged people have the least chance to survive. This situation is different from my hypothese 1."
   ]
  },
  {
   "cell_type": "markdown",
   "metadata": {},
   "source": [
    "# Pclass"
   ]
  },
  {
   "cell_type": "code",
   "execution_count": 124,
   "metadata": {},
   "outputs": [
    {
     "data": {
      "text/plain": [
       "<matplotlib.axes._subplots.AxesSubplot at 0x24576119278>"
      ]
     },
     "execution_count": 124,
     "metadata": {},
     "output_type": "execute_result"
    },
    {
     "data": {
      "image/png": "[encoded data removed]",
      "text/plain": [
       "<matplotlib.figure.Figure at 0x245767ffa58>"
      ]
     },
     "metadata": {},
     "output_type": "display_data"
    }
   ],
   "source": [
    "##Use the histdiagram to observe the proportion of survived poeple in different Pclass group.\n",
    "\n",
    "A['Pclass'].plot.hist(bins=15,range=(0,3),ylim=(0,500))\n",
    "a['Pclass'].plot.hist(bins=15,range=(0,3),ylim=(0,500))"
   ]
  },
  {
   "cell_type": "markdown",
   "metadata": {},
   "source": [
    "The orange color symbolizes the people who survived, the “ blue color + orange color ” symbolizes the overall number of people.From the histdiagram, we can see roughly that people in 3 Pclass occupies the biggest proportion of people who survived in these 3 Pclass group.And then I will use the table to get the exact ratio to cheack the information."
   ]
  },
  {
   "cell_type": "code",
   "execution_count": 125,
   "metadata": {},
   "outputs": [
    {
     "data": {
      "text/html": [
       "<div>\n",
       "<style>\n",
       "    .dataframe thead tr:only-child th {\n",
       "        text-align: right;\n",
       "    }\n",
       "\n",
       "    .dataframe thead th {\n",
       "        text-align: left;\n",
       "    }\n",
       "\n",
       "    .dataframe tbody tr th {\n",
       "        vertical-align: top;\n",
       "    }\n",
       "</style>\n",
       "<table border=\"1\" class=\"dataframe\">\n",
       "  <thead>\n",
       "    <tr style=\"text-align: right;\">\n",
       "      <th></th>\n",
       "      <th>Survived</th>\n",
       "      <th>PeopleNumber</th>\n",
       "      <th>Ratio</th>\n",
       "    </tr>\n",
       "    <tr>\n",
       "      <th>Pclass</th>\n",
       "      <th></th>\n",
       "      <th></th>\n",
       "      <th></th>\n",
       "    </tr>\n",
       "  </thead>\n",
       "  <tbody>\n",
       "    <tr>\n",
       "      <th>1</th>\n",
       "      <td>136</td>\n",
       "      <td>216</td>\n",
       "      <td>62.962963</td>\n",
       "    </tr>\n",
       "    <tr>\n",
       "      <th>2</th>\n",
       "      <td>87</td>\n",
       "      <td>184</td>\n",
       "      <td>47.282609</td>\n",
       "    </tr>\n",
       "    <tr>\n",
       "      <th>3</th>\n",
       "      <td>119</td>\n",
       "      <td>491</td>\n",
       "      <td>24.236253</td>\n",
       "    </tr>\n",
       "  </tbody>\n",
       "</table>\n",
       "</div>"
      ],
      "text/plain": [
       "        Survived  PeopleNumber      Ratio\n",
       "Pclass                                   \n",
       "1            136           216  62.962963\n",
       "2             87           184  47.282609\n",
       "3            119           491  24.236253"
      ]
     },
     "execution_count": 125,
     "metadata": {},
     "output_type": "execute_result"
    }
   ],
   "source": [
    "##Get the precise ratio of survived people in different Pclass\n",
    "Pclass_ratio = pd.DataFrame()\n",
    "Pclass_ratio['Survived'] = df[['Pclass','Survived']].groupby(['Pclass'])['Survived'].sum()\n",
    "Pclass_ratio['PeopleNumber'] = df[['Pclass','Survived']].groupby(['Pclass'])['Survived'].count()\n",
    "Pclass_ratio['Ratio'] = Pclass_ratio.Survived / Pclass_ratio.PeopleNumber * 100\n",
    "Pclass_ratio"
   ]
  },
  {
   "cell_type": "markdown",
   "metadata": {},
   "source": [
    "From the table, we can see the precise survived ratio in 3 different Pclass group. The people who are in higher Pclass have more chance to survived. The people in Pclass 1 are easist to dead. And this situation is correspond with my hypotheses 2."
   ]
  },
  {
   "cell_type": "markdown",
   "metadata": {},
   "source": [
    "# Gender"
   ]
  },
  {
   "cell_type": "code",
   "execution_count": 126,
   "metadata": {},
   "outputs": [
    {
     "data": {
      "text/plain": [
       "<matplotlib.axes._subplots.AxesSubplot at 0x245737d3630>"
      ]
     },
     "execution_count": 126,
     "metadata": {},
     "output_type": "execute_result"
    },
    {
     "data": {
      "image/png": "[encoded data removed]",
      "text/plain": [
       "<matplotlib.figure.Figure at 0x24573c2eda0>"
      ]
     },
     "metadata": {},
     "output_type": "display_data"
    }
   ],
   "source": [
    "##Use the histdiagram to observe the proportion of survived poeple in different Gender.\n",
    "A['Gender'].plot.hist(bins=6,range=(0,3),ylim=(0,600))\n",
    "a['Gender'].plot.hist(bins=6,range=(0,3),ylim=(0,600))"
   ]
  },
  {
   "cell_type": "markdown",
   "metadata": {},
   "source": [
    "The orange color symbolizes the people who survived, the “ blue color + orange color ” symbolizes the overall number of people.From the histdiagram, we can see roughly that female occupies larger proportion of people who survived in different gender.And then I will use the table to get the exact ratio to cheack the information."
   ]
  },
  {
   "cell_type": "code",
   "execution_count": 127,
   "metadata": {},
   "outputs": [
    {
     "data": {
      "text/html": [
       "<div>\n",
       "<style>\n",
       "    .dataframe thead tr:only-child th {\n",
       "        text-align: right;\n",
       "    }\n",
       "\n",
       "    .dataframe thead th {\n",
       "        text-align: left;\n",
       "    }\n",
       "\n",
       "    .dataframe tbody tr th {\n",
       "        vertical-align: top;\n",
       "    }\n",
       "</style>\n",
       "<table border=\"1\" class=\"dataframe\">\n",
       "  <thead>\n",
       "    <tr style=\"text-align: right;\">\n",
       "      <th></th>\n",
       "      <th>Survived</th>\n",
       "      <th>PeopleNumber</th>\n",
       "      <th>SurvivedRatio</th>\n",
       "    </tr>\n",
       "    <tr>\n",
       "      <th>Gender</th>\n",
       "      <th></th>\n",
       "      <th></th>\n",
       "      <th></th>\n",
       "    </tr>\n",
       "  </thead>\n",
       "  <tbody>\n",
       "    <tr>\n",
       "      <th>0</th>\n",
       "      <td>233</td>\n",
       "      <td>314</td>\n",
       "      <td>74.203822</td>\n",
       "    </tr>\n",
       "    <tr>\n",
       "      <th>1</th>\n",
       "      <td>109</td>\n",
       "      <td>577</td>\n",
       "      <td>18.890815</td>\n",
       "    </tr>\n",
       "  </tbody>\n",
       "</table>\n",
       "</div>"
      ],
      "text/plain": [
       "        Survived  PeopleNumber  SurvivedRatio\n",
       "Gender                                       \n",
       "0            233           314      74.203822\n",
       "1            109           577      18.890815"
      ]
     },
     "execution_count": 127,
     "metadata": {},
     "output_type": "execute_result"
    }
   ],
   "source": [
    "##Get the precise ratio of survived people in different Pclass\n",
    "Gender_ratio = pd.DataFrame()\n",
    "Gender_ratio['Survived'] = df[['Gender','Survived']].groupby(['Gender'])['Survived'].sum()\n",
    "Gender_ratio['PeopleNumber'] = df[['Gender','Survived']].groupby(['Gender'])['Survived'].count()\n",
    "Gender_ratio['SurvivedRatio'] = Gender_ratio.Survived / Gender_ratio.PeopleNumber * 100\n",
    "Gender_ratio"
   ]
  },
  {
   "cell_type": "markdown",
   "metadata": {},
   "source": [
    "From the table, we can see the precise survived ratio in different gender. The female have much larger change to survive. This situation is different from my hypotheses . Maybe it is because that male are more likely to protect female so they got more risk and dangerous"
   ]
  },
  {
   "cell_type": "markdown",
   "metadata": {},
   "source": [
    "# FamilySize"
   ]
  },
  {
   "cell_type": "code",
   "execution_count": 128,
   "metadata": {},
   "outputs": [
    {
     "data": {
      "text/plain": [
       "<matplotlib.axes._subplots.AxesSubplot at 0x245766bc940>"
      ]
     },
     "execution_count": 128,
     "metadata": {},
     "output_type": "execute_result"
    },
    {
     "data": {
      "image/png": "[encoded data removed]",
      "text/plain": [
       "<matplotlib.figure.Figure at 0x2457619c630>"
      ]
     },
     "metadata": {},
     "output_type": "display_data"
    }
   ],
   "source": [
    "##Use the histdiagram to observe the proportion of survived poeple in different Familysize group.\n",
    "A['FamilySize'].plot.hist(bins=8,range=(0,8),ylim=(0,600))\n",
    "a['FamilySize'].plot.hist(bins=8,range=(0,8),ylim=(0,600))"
   ]
  },
  {
   "cell_type": "markdown",
   "metadata": {},
   "source": [
    "\n",
    "The orange color symbolizes the people who survived, the “ blue color + orange color ” symbolizes the overall number of people.From the histdiagram, we can see roughly that most of the people are in small size family or single. And it is not easy to judge which kind of familysize have larger chance to survive.And then I will use the table to get the exact ratio to cheack the information."
   ]
  },
  {
   "cell_type": "code",
   "execution_count": 129,
   "metadata": {},
   "outputs": [
    {
     "data": {
      "text/html": [
       "<div>\n",
       "<style>\n",
       "    .dataframe thead tr:only-child th {\n",
       "        text-align: right;\n",
       "    }\n",
       "\n",
       "    .dataframe thead th {\n",
       "        text-align: left;\n",
       "    }\n",
       "\n",
       "    .dataframe tbody tr th {\n",
       "        vertical-align: top;\n",
       "    }\n",
       "</style>\n",
       "<table border=\"1\" class=\"dataframe\">\n",
       "  <thead>\n",
       "    <tr style=\"text-align: right;\">\n",
       "      <th></th>\n",
       "      <th>Survived</th>\n",
       "      <th>PeopleNumber</th>\n",
       "      <th>SurvivedRatio</th>\n",
       "    </tr>\n",
       "    <tr>\n",
       "      <th>FamilySize</th>\n",
       "      <th></th>\n",
       "      <th></th>\n",
       "      <th></th>\n",
       "    </tr>\n",
       "  </thead>\n",
       "  <tbody>\n",
       "    <tr>\n",
       "      <th>1</th>\n",
       "      <td>163</td>\n",
       "      <td>537</td>\n",
       "      <td>30.353818</td>\n",
       "    </tr>\n",
       "    <tr>\n",
       "      <th>2</th>\n",
       "      <td>89</td>\n",
       "      <td>161</td>\n",
       "      <td>55.279503</td>\n",
       "    </tr>\n",
       "    <tr>\n",
       "      <th>3</th>\n",
       "      <td>59</td>\n",
       "      <td>102</td>\n",
       "      <td>57.843137</td>\n",
       "    </tr>\n",
       "    <tr>\n",
       "      <th>4</th>\n",
       "      <td>21</td>\n",
       "      <td>29</td>\n",
       "      <td>72.413793</td>\n",
       "    </tr>\n",
       "    <tr>\n",
       "      <th>5</th>\n",
       "      <td>3</td>\n",
       "      <td>15</td>\n",
       "      <td>20.000000</td>\n",
       "    </tr>\n",
       "    <tr>\n",
       "      <th>6</th>\n",
       "      <td>3</td>\n",
       "      <td>22</td>\n",
       "      <td>13.636364</td>\n",
       "    </tr>\n",
       "    <tr>\n",
       "      <th>7</th>\n",
       "      <td>4</td>\n",
       "      <td>12</td>\n",
       "      <td>33.333333</td>\n",
       "    </tr>\n",
       "    <tr>\n",
       "      <th>8</th>\n",
       "      <td>0</td>\n",
       "      <td>6</td>\n",
       "      <td>0.000000</td>\n",
       "    </tr>\n",
       "    <tr>\n",
       "      <th>11</th>\n",
       "      <td>0</td>\n",
       "      <td>7</td>\n",
       "      <td>0.000000</td>\n",
       "    </tr>\n",
       "  </tbody>\n",
       "</table>\n",
       "</div>"
      ],
      "text/plain": [
       "            Survived  PeopleNumber  SurvivedRatio\n",
       "FamilySize                                       \n",
       "1                163           537      30.353818\n",
       "2                 89           161      55.279503\n",
       "3                 59           102      57.843137\n",
       "4                 21            29      72.413793\n",
       "5                  3            15      20.000000\n",
       "6                  3            22      13.636364\n",
       "7                  4            12      33.333333\n",
       "8                  0             6       0.000000\n",
       "11                 0             7       0.000000"
      ]
     },
     "execution_count": 129,
     "metadata": {},
     "output_type": "execute_result"
    }
   ],
   "source": [
    "##Get the precise ratio of survived people in different Familysize\n",
    "Familysize_ratio = pd.DataFrame()\n",
    "Familysize_ratio['Survived'] = df[['FamilySize','Survived']].groupby(['FamilySize'])['Survived'].sum()\n",
    "Familysize_ratio['PeopleNumber'] = df[['FamilySize','Survived']].groupby(['FamilySize'])['Survived'].count()\n",
    "Familysize_ratio['SurvivedRatio'] = Familysize_ratio.Survived / Familysize_ratio.PeopleNumber * 100\n",
    "Familysize_ratio"
   ]
  },
  {
   "cell_type": "markdown",
   "metadata": {},
   "source": [
    "From the table, we can see the precise survived ratio in different Familysize group. The people who are in big familysize have less change to survive.And the people who are in 4 people's size family have the largest chance to survive. This situation is different from my hypotheses 4."
   ]
  },
  {
   "cell_type": "markdown",
   "metadata": {},
   "source": [
    "# Campare 2 different kinds of figures at the same time."
   ]
  },
  {
   "cell_type": "markdown",
   "metadata": {},
   "source": [
    "# Age and Fare"
   ]
  },
  {
   "cell_type": "code",
   "execution_count": 130,
   "metadata": {},
   "outputs": [
    {
     "data": {
      "image/png": "[encoded data removed]",
      "text/plain": [
       "<matplotlib.figure.Figure at 0x24575a6beb8>"
      ]
     },
     "metadata": {},
     "output_type": "display_data"
    }
   ],
   "source": [
    "fig, ax = plt.subplots()\n",
    "\n",
    "xSurvivor = df.Age[df.Survived==1]   ##survivor\n",
    "xDead = df.Age[df.Survived==0]       ##dead\n",
    "ySurvivor = df.Fare[df.Survived==1]  ##survivor\n",
    "yDead = df.Fare[df.Survived==0]      ##dead\n",
    "\n",
    "ax.set_xlabel('Age')\n",
    "ax.set_ylabel('Fare')\n",
    "\n",
    "m = ax.scatter(xSurvivor, ySurvivor, 5, 'red')\n",
    "n = ax.scatter(xDead, yDead,5, 'blue')\n",
    "\n",
    "ax.legend([m,n],['Survivor','Dead'])\n",
    "plt.title('The survival chance about Age and Fare') \n",
    "\n",
    "plt.show()"
   ]
  },
  {
   "cell_type": "markdown",
   "metadata": {},
   "source": [
    "From the diagram ,we can see that children and people who paid higher price of tickets have more chance to survive."
   ]
  },
  {
   "cell_type": "markdown",
   "metadata": {},
   "source": [
    "# Familysize and Pclass"
   ]
  },
  {
   "cell_type": "code",
   "execution_count": 131,
   "metadata": {},
   "outputs": [
    {
     "data": {
      "image/png": "[encoded data removed]",
      "text/plain": [
       "<matplotlib.figure.Figure at 0x24575b6af60>"
      ]
     },
     "metadata": {},
     "output_type": "display_data"
    }
   ],
   "source": [
    "fig, ax = plt.subplots()\n",
    "\n",
    "xSurvivor = df.FamilySize[df.Survived==1]     ##survivor\n",
    "xDead = df.FamilySize[df.Survived==0]         ##dead\n",
    "ySurvivor = df.Pclass[df.Survived==1]         ##survivor\n",
    "yDead = df.Pclass[df.Survived==0]             ##dead\n",
    "\n",
    "ax.set_xlabel('FamilySize')\n",
    "ax.set_ylabel('Pclass')\n",
    "\n",
    "m = ax.scatter(xSurvivor, ySurvivor, 40, 'red')\n",
    "n = ax.scatter(xDead, yDead,10, 'blue')\n",
    "\n",
    "ax.legend([m,n],['Survivor','Dead'])\n",
    "plt.title('The survival chance about Age and Gender') \n",
    "\n",
    "plt.show()"
   ]
  },
  {
   "cell_type": "markdown",
   "metadata": {},
   "source": [
    "From the diagram ,we can see that people who have smaller size of family and higer Pclass have more chance to survive."
   ]
  },
  {
   "cell_type": "markdown",
   "metadata": {},
   "source": [
    "# Gender and Age"
   ]
  },
  {
   "cell_type": "code",
   "execution_count": 132,
   "metadata": {},
   "outputs": [
    {
     "data": {
      "image/png": "[encoded data removed]",
      "text/plain": [
       "<matplotlib.figure.Figure at 0x245769b2eb8>"
      ]
     },
     "metadata": {},
     "output_type": "display_data"
    }
   ],
   "source": [
    "fig, ax = plt.subplots()\n",
    "\n",
    "xSurvivor = df.Age[df.Survived==1]     ##survivor\n",
    "xDead = df.Age[df.Survived==0]         ##dead\n",
    "ySurvivor = df.Gender[df.Survived==1]  ##survivor\n",
    "yDead = df.Gender[df.Survived==0]      ##dead\n",
    "\n",
    "ax.set_xlabel('Age')\n",
    "ax.set_ylabel('Gender')\n",
    "\n",
    "m = ax.scatter(xSurvivor, ySurvivor, 2, 'red')\n",
    "n = ax.scatter(xDead, yDead,2, 'blue')\n",
    "\n",
    "ax.legend([m,n],['Survivor','Dead'])\n",
    "plt.title('The survival chance about Age and Gender') \n",
    "\n",
    "plt.show()"
   ]
  },
  {
   "cell_type": "markdown",
   "metadata": {},
   "source": [
    "From the diagram ,we can see that female and children have more chance to survive."
   ]
  },
  {
   "cell_type": "markdown",
   "metadata": {},
   "source": [
    "# Conclusion"
   ]
  },
  {
   "cell_type": "markdown",
   "metadata": {},
   "source": [
    "People who are children,female ,who have smaller familysize ,higher fare and in higher class have more chance to survive"
   ]
  },
  {
   "cell_type": "markdown",
   "metadata": {},
   "source": [
    "And my hypothese 1 is wrong,hypothese 2 is right, hypothese 3 is wrong and hypothese 4 is wrong."
   ]
  },
  {
   "cell_type": "code",
   "execution_count": null,
   "metadata": {
    "collapsed": true
   },
   "outputs": [],
   "source": []
  }
 ],
 "metadata": {
  "kernelspec": {
   "display_name": "Python 3",
   "language": "python",
   "name": "python3"
  },
  "language_info": {
   "codemirror_mode": {
    "name": "ipython",
    "version": 3
   },
   "file_extension": ".py",
   "mimetype": "text/x-python",
   "name": "python",
   "nbconvert_exporter": "python",
   "pygments_lexer": "ipython3",
   "version": "3.6.2"
  }
 },
 "nbformat": 4,
 "nbformat_minor": 2
}
