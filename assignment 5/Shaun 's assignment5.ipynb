{
 "cells": [
  {
   "cell_type": "code",
   "execution_count": null,
   "metadata": {
    "collapsed": true
   },
   "outputs": [],
   "source": [
    "from mpl_toolkits.basemap import Basemap\n",
    "import matplotlib.pyplot as plt\n",
    "import pandas as pd\n",
    "import numpy as np\n",
    "from matplotlib import cm\n",
    "\n",
    "# Draw the base map, select the drawing area, because it is drawing the United States map, \n",
    "so select the latitude and longitude, lat_0 and lon_0 is the center of the map dimensions and longitude.\n",
    "\n",
    "map = Basemap(projection='stere',lat_0=90,lon_0=-105,\\\n",
    "            llcrnrlat=23.41 ,urcrnrlat=45.44,\\\n",
    "            llcrnrlon=-118.67,urcrnrlon=-64.52,\\\n",
    "            rsphere=6371200.,resolution='l',area_thresh=10000)\n",
    "# map = Basemap(projection='stere', \n",
    "#               lat_0=0, lon_0=280,\n",
    "#               llcrnrlon=73.33, \n",
    "#               llcrnrlat=3.51, \n",
    "#               urcrnrlon=112.16, \n",
    "#               urcrnrlat=53.123)\n",
    "\n",
    "map.drawmapboundary()   # Draw the border.\n",
    "#map.fillcontinents()   # Fill the mainland, found that after the filling can not display the scatter chart, it should be covered.\n",
    "map.drawstates()        # Draw state\n",
    "map.drawcoastlines()    # Draw the coastline\n",
    "map.drawcountries()     # Draw the country\n",
    "map.drawcounties()      # Draw the province\n",
    "\n",
    "parallels = np.arange(0.,90,10.) \n",
    "map.drawparallels(parallels,labels=[1,0,0,0],fontsize=10) # Draw latitude\n",
    "\n",
    "meridians = np.arange(-110.,-60.,10.)\n",
    "map.drawmeridians(meridians,labels=[0,0,0,1],fontsize=10) # Draw the longitude\n",
    "\n",
    "\n",
    "posi=pd.read_csv(\"D:\\\\Files\\\\python\\\\2014_us_cities.csv\") # Read the data\n",
    "\n",
    "## The original data has 3228 sets of data, I have only selected the data of 180 cities.\n",
    "lat = np.array(posi[\"lat\"][0:180])      "
   ]
  }
 ],
 "metadata": {
  "kernelspec": {
   "display_name": "Python 3",
   "language": "python",
   "name": "python3"
  },
  "language_info": {
   "codemirror_mode": {
    "name": "ipython",
    "version": 3
   },
   "file_extension": ".py",
   "mimetype": "text/x-python",
   "name": "python",
   "nbconvert_exporter": "python",
   "pygments_lexer": "ipython3",
   "version": "3.6.3"
  }
 },
 "nbformat": 4,
 "nbformat_minor": 2
}
