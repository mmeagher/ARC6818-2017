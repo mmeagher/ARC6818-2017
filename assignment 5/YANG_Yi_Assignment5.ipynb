{
 "cells": [
  {
   "cell_type": "markdown",
   "metadata": {},
   "source": [
    "# Light Through a Window"
   ]
  },
  {
   "cell_type": "markdown",
   "metadata": {},
   "source": [
    "This coding work aims to create a dataset regarding the information of sun's position in the sky at certain times, which can be used to work out the shape and position of glazed area projection, and further visualised as shown in Figure 1. With such pictures over a certain time range, a short code is written to produce a gif file showing the variation of projections.\n",
    "\n",
    "Production of pictures of projections is done with the aid of Rhinoceros with Grasshopper."
   ]
  },
  {
   "cell_type": "markdown",
   "metadata": {},
   "source": [
    "![Expectation](https://github.com/mmeagher/ARC6818-2017/blob/master/assignment%205/Untitled-1.jpg?raw=true)"
   ]
  },
  {
   "cell_type": "markdown",
   "metadata": {},
   "source": [
    "Figure 1. "
   ]
  },
  {
   "cell_type": "markdown",
   "metadata": {
    "collapsed": true
   },
   "source": [
    "Firstly, with the assumption that the sun is always in the south of the sky when at the maximum altitude every day, the following code works out the altitude of the sun and hence the vector of sunlight, using the equation presented in Figure 2.\n",
    "\n",
    "This code is put inside a Grasshopper file as a Python component. "
   ]
  },
  {
   "cell_type": "markdown",
   "metadata": {},
   "source": [
    "![Expectation](https://github.com/mmeagher/ARC6818-2017/blob/master/assignment%205/formula1.JPG?raw=true)\n",
    "![Expectation](https://github.com/mmeagher/ARC6818-2017/blob/master/assignment%205/formula2.JPG?raw=true)\n",
    "![Expectation](https://github.com/mmeagher/ARC6818-2017/blob/master/assignment%205/formula3.JPG?raw=true)"
   ]
  },
  {
   "cell_type": "markdown",
   "metadata": {},
   "source": [
    "Figure 2"
   ]
  },
  {
   "cell_type": "code",
   "execution_count": 2,
   "metadata": {},
   "outputs": [],
   "source": [
    "from math import sin, cos, pi, asin\n",
    "#import Grasshopper as gh\n",
    "#this line is not run here in order to avoid error\n",
    "\n",
    "#L = Local laltitude\n",
    "#Sheffield's laltitude is 53, therefore L = 53 in this case.\n",
    "L = 53\n",
    "L = L*pi/180\n",
    "\n",
    "sun = []\n",
    "\n",
    "M = ['January', 'February', 'March', 'April', 'May', 'June', 'July', 'August', 'September', 'October', 'November', 'December']\n",
    "M_Range = [(1,32),\n",
    "          (32,60),\n",
    "          (60,91),\n",
    "          (91,121),\n",
    "          (121,152),\n",
    "          (152,182),\n",
    "          (182,213),\n",
    "          (213,244),\n",
    "          (244,274),\n",
    "          (274,305),\n",
    "          (305,335),\n",
    "          (335,366)]\n",
    "\n",
    "\n",
    "#altitude\n",
    "a = []\n",
    "#list of month and altitude\n",
    "M_A = []\n",
    "#list of vectors coordinates\n",
    "V_x = []\n",
    "V_y = []\n",
    "V_z = []\n",
    "\n",
    "for i in range(0,12):\n",
    "    q,w = M_Range[i][0],M_Range[i][1]\n",
    "    m = list(range(q,w))\n",
    "    for j in range(len(m)):\n",
    "        D = 23.4*sin(360*(284+m[j])/365*pi/180)*pi/180\n",
    "        siny = cos(D)*cos(L)+sin(D)*sin(L)\n",
    "        y = asin(siny)\n",
    "        a.append(y)\n",
    "        m_a = M[i],int(y*180/pi)\n",
    "        M_A.append(m_a)\n",
    "        V_x.append(0)\n",
    "        V_y.append(1)\n",
    "        V_z.append(-siny)"
   ]
  },
  {
   "cell_type": "code",
   "execution_count": 3,
   "metadata": {},
   "outputs": [
    {
     "name": "stdout",
     "output_type": "stream",
     "text": [
      "[('January', 14), ('January', 14), ('January', 14), ('January', 14), ('January', 14), ('January', 14), ('January', 14), ('January', 14), ('January', 14), ('January', 15), ('January', 15), ('January', 15), ('January', 15), ('January', 15), ('January', 15), ('January', 15), ('January', 16), ('January', 16), ('January', 16), ('January', 16), ('January', 16), ('January', 17), ('January', 17), ('January', 17), ('January', 17), ('January', 18), ('January', 18), ('January', 18), ('January', 18), ('January', 18), ('January', 19), ('February', 19), ('February', 19), ('February', 20), ('February', 20), ('February', 20), ('February', 20), ('February', 21), ('February', 21), ('February', 21), ('February', 22), ('February', 22), ('February', 22), ('February', 23), ('February', 23), ('February', 23), ('February', 24), ('February', 24), ('February', 24), ('February', 25), ('February', 25), ('February', 25), ('February', 26), ('February', 26), ('February', 26), ('February', 27), ('February', 27), ('February', 27), ('February', 28), ('March', 28), ('March', 29), ('March', 29), ('March', 29), ('March', 30), ('March', 30), ('March', 31), ('March', 31), ('March', 31), ('March', 32), ('March', 32), ('March', 32), ('March', 33), ('March', 33), ('March', 34), ('March', 34), ('March', 34), ('March', 35), ('March', 35), ('March', 36), ('March', 36), ('March', 37), ('March', 37), ('March', 37), ('March', 38), ('March', 38), ('March', 39), ('March', 39), ('March', 39), ('March', 40), ('March', 40), ('April', 41), ('April', 41), ('April', 41), ('April', 42), ('April', 42), ('April', 42), ('April', 43), ('April', 43), ('April', 44), ('April', 44), ('April', 44), ('April', 45), ('April', 45), ('April', 46), ('April', 46), ('April', 46), ('April', 47), ('April', 47), ('April', 47), ('April', 48), ('April', 48), ('April', 48), ('April', 49), ('April', 49), ('April', 49), ('April', 50), ('April', 50), ('April', 50), ('April', 51), ('April', 51), ('May', 51), ('May', 52), ('May', 52), ('May', 52), ('May', 53), ('May', 53), ('May', 53), ('May', 53), ('May', 54), ('May', 54), ('May', 54), ('May', 55), ('May', 55), ('May', 55), ('May', 55), ('May', 55), ('May', 56), ('May', 56), ('May', 56), ('May', 56), ('May', 57), ('May', 57), ('May', 57), ('May', 57), ('May', 57), ('May', 58), ('May', 58), ('May', 58), ('May', 58), ('May', 58), ('May', 58), ('June', 58), ('June', 59), ('June', 59), ('June', 59), ('June', 59), ('June', 59), ('June', 59), ('June', 59), ('June', 59), ('June', 59), ('June', 60), ('June', 60), ('June', 60), ('June', 60), ('June', 60), ('June', 60), ('June', 60), ('June', 60), ('June', 60), ('June', 60), ('June', 60), ('June', 60), ('June', 60), ('June', 60), ('June', 60), ('June', 60), ('June', 60), ('June', 60), ('June', 60), ('June', 60), ('July', 60), ('July', 60), ('July', 59), ('July', 59), ('July', 59), ('July', 59), ('July', 59), ('July', 59), ('July', 59), ('July', 59), ('July', 59), ('July', 58), ('July', 58), ('July', 58), ('July', 58), ('July', 58), ('July', 58), ('July', 57), ('July', 57), ('July', 57), ('July', 57), ('July', 57), ('July', 56), ('July', 56), ('July', 56), ('July', 56), ('July', 56), ('July', 55), ('July', 55), ('July', 55), ('July', 55), ('August', 54), ('August', 54), ('August', 54), ('August', 54), ('August', 53), ('August', 53), ('August', 53), ('August', 52), ('August', 52), ('August', 52), ('August', 52), ('August', 51), ('August', 51), ('August', 51), ('August', 50), ('August', 50), ('August', 50), ('August', 49), ('August', 49), ('August', 49), ('August', 48), ('August', 48), ('August', 48), ('August', 47), ('August', 47), ('August', 46), ('August', 46), ('August', 46), ('August', 45), ('August', 45), ('August', 45), ('September', 44), ('September', 44), ('September', 43), ('September', 43), ('September', 43), ('September', 42), ('September', 42), ('September', 41), ('September', 41), ('September', 41), ('September', 40), ('September', 40), ('September', 40), ('September', 39), ('September', 39), ('September', 38), ('September', 38), ('September', 38), ('September', 37), ('September', 37), ('September', 36), ('September', 36), ('September', 35), ('September', 35), ('September', 35), ('September', 34), ('September', 34), ('September', 33), ('September', 33), ('September', 33), ('October', 32), ('October', 32), ('October', 32), ('October', 31), ('October', 31), ('October', 30), ('October', 30), ('October', 30), ('October', 29), ('October', 29), ('October', 28), ('October', 28), ('October', 28), ('October', 27), ('October', 27), ('October', 27), ('October', 26), ('October', 26), ('October', 25), ('October', 25), ('October', 25), ('October', 24), ('October', 24), ('October', 24), ('October', 23), ('October', 23), ('October', 23), ('October', 22), ('October', 22), ('October', 22), ('October', 21), ('November', 21), ('November', 21), ('November', 21), ('November', 20), ('November', 20), ('November', 20), ('November', 19), ('November', 19), ('November', 19), ('November', 19), ('November', 18), ('November', 18), ('November', 18), ('November', 18), ('November', 17), ('November', 17), ('November', 17), ('November', 17), ('November', 17), ('November', 16), ('November', 16), ('November', 16), ('November', 16), ('November', 16), ('November', 15), ('November', 15), ('November', 15), ('November', 15), ('November', 15), ('November', 15), ('December', 14), ('December', 14), ('December', 14), ('December', 14), ('December', 14), ('December', 14), ('December', 14), ('December', 14), ('December', 14), ('December', 13), ('December', 13), ('December', 13), ('December', 13), ('December', 13), ('December', 13), ('December', 13), ('December', 13), ('December', 13), ('December', 13), ('December', 13), ('December', 13), ('December', 13), ('December', 13), ('December', 13), ('December', 13), ('December', 13), ('December', 13), ('December', 13), ('December', 13), ('December', 13), ('December', 13)]\n",
      "[0, 0, 0, 0, 0, 0, 0, 0, 0, 0, 0, 0, 0, 0, 0, 0, 0, 0, 0, 0, 0, 0, 0, 0, 0, 0, 0, 0, 0, 0, 0, 0, 0, 0, 0, 0, 0, 0, 0, 0, 0, 0, 0, 0, 0, 0, 0, 0, 0, 0, 0, 0, 0, 0, 0, 0, 0, 0, 0, 0, 0, 0, 0, 0, 0, 0, 0, 0, 0, 0, 0, 0, 0, 0, 0, 0, 0, 0, 0, 0, 0, 0, 0, 0, 0, 0, 0, 0, 0, 0, 0, 0, 0, 0, 0, 0, 0, 0, 0, 0, 0, 0, 0, 0, 0, 0, 0, 0, 0, 0, 0, 0, 0, 0, 0, 0, 0, 0, 0, 0, 0, 0, 0, 0, 0, 0, 0, 0, 0, 0, 0, 0, 0, 0, 0, 0, 0, 0, 0, 0, 0, 0, 0, 0, 0, 0, 0, 0, 0, 0, 0, 0, 0, 0, 0, 0, 0, 0, 0, 0, 0, 0, 0, 0, 0, 0, 0, 0, 0, 0, 0, 0, 0, 0, 0, 0, 0, 0, 0, 0, 0, 0, 0, 0, 0, 0, 0, 0, 0, 0, 0, 0, 0, 0, 0, 0, 0, 0, 0, 0, 0, 0, 0, 0, 0, 0, 0, 0, 0, 0, 0, 0, 0, 0, 0, 0, 0, 0, 0, 0, 0, 0, 0, 0, 0, 0, 0, 0, 0, 0, 0, 0, 0, 0, 0, 0, 0, 0, 0, 0, 0, 0, 0, 0, 0, 0, 0, 0, 0, 0, 0, 0, 0, 0, 0, 0, 0, 0, 0, 0, 0, 0, 0, 0, 0, 0, 0, 0, 0, 0, 0, 0, 0, 0, 0, 0, 0, 0, 0, 0, 0, 0, 0, 0, 0, 0, 0, 0, 0, 0, 0, 0, 0, 0, 0, 0, 0, 0, 0, 0, 0, 0, 0, 0, 0, 0, 0, 0, 0, 0, 0, 0, 0, 0, 0, 0, 0, 0, 0, 0, 0, 0, 0, 0, 0, 0, 0, 0, 0, 0, 0, 0, 0, 0, 0, 0, 0, 0, 0, 0, 0, 0, 0, 0, 0, 0, 0, 0, 0, 0, 0, 0, 0, 0, 0, 0, 0, 0, 0, 0, 0, 0, 0, 0, 0]\n",
      "[1, 1, 1, 1, 1, 1, 1, 1, 1, 1, 1, 1, 1, 1, 1, 1, 1, 1, 1, 1, 1, 1, 1, 1, 1, 1, 1, 1, 1, 1, 1, 1, 1, 1, 1, 1, 1, 1, 1, 1, 1, 1, 1, 1, 1, 1, 1, 1, 1, 1, 1, 1, 1, 1, 1, 1, 1, 1, 1, 1, 1, 1, 1, 1, 1, 1, 1, 1, 1, 1, 1, 1, 1, 1, 1, 1, 1, 1, 1, 1, 1, 1, 1, 1, 1, 1, 1, 1, 1, 1, 1, 1, 1, 1, 1, 1, 1, 1, 1, 1, 1, 1, 1, 1, 1, 1, 1, 1, 1, 1, 1, 1, 1, 1, 1, 1, 1, 1, 1, 1, 1, 1, 1, 1, 1, 1, 1, 1, 1, 1, 1, 1, 1, 1, 1, 1, 1, 1, 1, 1, 1, 1, 1, 1, 1, 1, 1, 1, 1, 1, 1, 1, 1, 1, 1, 1, 1, 1, 1, 1, 1, 1, 1, 1, 1, 1, 1, 1, 1, 1, 1, 1, 1, 1, 1, 1, 1, 1, 1, 1, 1, 1, 1, 1, 1, 1, 1, 1, 1, 1, 1, 1, 1, 1, 1, 1, 1, 1, 1, 1, 1, 1, 1, 1, 1, 1, 1, 1, 1, 1, 1, 1, 1, 1, 1, 1, 1, 1, 1, 1, 1, 1, 1, 1, 1, 1, 1, 1, 1, 1, 1, 1, 1, 1, 1, 1, 1, 1, 1, 1, 1, 1, 1, 1, 1, 1, 1, 1, 1, 1, 1, 1, 1, 1, 1, 1, 1, 1, 1, 1, 1, 1, 1, 1, 1, 1, 1, 1, 1, 1, 1, 1, 1, 1, 1, 1, 1, 1, 1, 1, 1, 1, 1, 1, 1, 1, 1, 1, 1, 1, 1, 1, 1, 1, 1, 1, 1, 1, 1, 1, 1, 1, 1, 1, 1, 1, 1, 1, 1, 1, 1, 1, 1, 1, 1, 1, 1, 1, 1, 1, 1, 1, 1, 1, 1, 1, 1, 1, 1, 1, 1, 1, 1, 1, 1, 1, 1, 1, 1, 1, 1, 1, 1, 1, 1, 1, 1, 1, 1, 1, 1, 1, 1, 1, 1, 1, 1, 1, 1, 1, 1, 1, 1, 1, 1]\n",
      "[-0.24255569178128666, -0.24392559801462466, -0.24540973957613949, -0.24700754048821139, -0.24871837968096988, -0.25054159102751555, -0.25247646338756696, -0.2545222406606884, -0.2566781218503146, -0.25894326113983046, -0.2613167679820099, -0.26379770720316115, -0.26638509912334823, -0.2690779196940993, -0.27187510065502546, -0.27477552971079083, -0.277778050729889, -0.280881463966684, -0.2840845263081666, -0.2873859515468761, -0.2907844106814178, -0.29427853224598854, -0.2978669026702933, -0.3015480666712021, -0.3053205276774568, -0.30918274828869713, -0.3131331507700048, -0.31717011758313257, -0.3212919919554922, -0.3254970784879283, -0.32978364380221303, -0.33414991722912035, -0.33859409153785125, -0.34311432370749306, -0.3477087357410844, -0.35237541552277496, -0.3571124177184454, -0.361917764720057, -0.36678944763387056, -0.37172542731257535, -0.3767236354312296, -0.38178197560680704, -0.38689832456100326, -0.39207053332584696, -0.39729642849150926, -0.4025738134955982, -0.40790046995307355, -0.4132741590258065, -0.418692622830659, -0.42415358588484586, -0.4296547565871968, -0.4351938287338297, -0.4407684830665951, -0.44637638885255804, -0.45201520549264007, -0.4576825841574461, -0.46337616944817533, -0.469093601080421, -0.4748325155885436, -0.4805905480482292, -0.4863653338147197, -0.4921545102741494, -0.4979557186053135, -0.5037666055491409, -0.509584825183061, -0.5154080406974099, -0.5212339261709497, -0.5270601683425559, -0.5328844683760592, -0.538704543615232, -0.5445181293258581, -0.5503229804218421, -0.5561168731722825, -0.5618976068864613, -0.567663005573695, -0.5734109195750362, -0.5791392271638216, -0.5848458361121183, -0.5905286852201599, -0.5961857458059222, -0.6018150231520483, -0.607414557907408, -0.6129824274406523, -0.6185167471432135, -0.6240156716792971, -0.6294773961805037, -0.6349001573828381, -0.6402822347039678, -0.645621951258725, -0.6509176748109503, -0.6561678186599377, -0.661370842459842, -0.6665252529705866, -0.6716296047389161, -0.6766825007084184, -0.6816825927574695, -0.6866285821642245, -0.6915192199979145, -0.6963533074358902, -0.7011296960059868, -0.7058472877539665, -0.7105050353359353, -0.7151019420358085, -0.7196370617080373, -0.7241094986459902, -0.7285184073765142, -0.732862992381378, -0.737142507746434, -0.7413562567394931, -0.74550359131805, -0.7495839115681423, -0.7535966650757562, -0.7575413462323364, -0.76141749547608, -0.7652246984708235, -0.7689625852244455, -0.7726308291488304, -0.7762291460635379, -0.7797572931454373, -0.7832150678266461, -0.7866023066432222, -0.7899188840371268, -0.793164711114067, -0.7963397343598848, -0.7994439343182386, -0.8024773242323682, -0.8054399486538025, -0.8083318820208927, -0.8111532272101148, -0.8139041140631029, -0.8165846978924062, -0.8191951579689783, -0.82173569599443, -0.8242065345610659, -0.8266079156027482, -0.8289400988396041, -0.831203360219599, -0.8333979903599728, -0.8355242929915137, -0.8375825834086216, -0.8395731869280767, -0.841496437359393, -0.8433526754895924, -0.845142247585192, -0.8468655039141422, -0.8485227972903973, -0.8501144816437497, -0.8516409106174809, -0.8531024361963324, -0.8544994073672167, -0.8558321688150232, -0.8571010596557959, -0.858306412209479, -0.8594485508143506, -0.860527790685174, -0.8615444368170172, -0.8624987829365988, -0.8633911105029296, -0.864221687758931, -0.8649907688356127, -0.8656985929103006, -0.8663453834203143, -0.8669313473333853, -0.8674566744760224, -0.8679215369209198, -0.8683260884344133, -0.8686704639848808, -0.86895477931289, -0.8691791305637853, -0.8693435939833143, -0.8694482256767799, -0.8694930614321117, -0.8694781166071367, -0.869403386081236, -0.8692688442714613, -0.8690744452130872, -0.8688201227044697, -0.868505790515976, -0.8681313426626506, -0.8676966537401767, -0.8672015793235891, -0.8666459564280937, -0.8660296040312461, -0.8653523236556371, -0.8646139000111384, -0.8638141016956535, -0.8629526819532276, -0.8620293794882613, -0.8610439193344901, -0.8599960137772771, -0.8588853633276876, -0.8577116577467117, -0.8564745771179066, -0.8551737929666519, -0.8538089694241027, -0.8523797644338624, -0.850885830999289, -0.8493268184692839, -0.8477023738603213, -0.8460121432124087, -0.8442557729765812, -0.8424329114314753, -0.840543210126453, -0.8385863253486756, -0.8365619196114835, -0.8344696631613587, -0.8323092355007143, -0.8300803269236905, -0.8277826400621007, -0.8254158914386291, -0.822979813024348, -0.8204741537975843, -0.8178986813011576, -0.8152531831949694, -0.8125374688009357, -0.8097513706372169, -0.8068947459387293, -0.8039674781608964, -0.8009694784636312, -0.797900687172539, -0.7947610752143696, -0.7915506455237605, -0.7882694344183615, -0.7849175129394627, -0.7814949881553056, -0.7780020044243062, -0.7744387446154832, -0.7708054312834496, -0.7671023277954077, -0.7633297394076626, -0.7594880142892582, -0.7555775444904369, -0.751598766853715, -0.7475521638654896, -0.743438264446179, -0.7392576446770414, -0.7350109284619171, -0.7306987881222821, -0.7263219449241278, -0.7218811695353083, -0.7173772824121566, -0.712811154114297, -0.70818370554674, -0.7034959081284853, -0.6987487838870272, -0.6939434054782951, -0.6890808961317331, -0.6841624295203648, -0.6791892295558704, -0.6741625701088387, -0.6690837746545387, -0.6639542158446902, -0.6587753150058969, -0.6535485415655433, -0.6482754124061189, -0.6429574911490757, -0.6375963873694988, -0.6321937557429844, -0.6267512951262841, -0.6212707475734056, -0.6157538972889866, -0.6102025695209018, -0.6046186293941758, -0.5990039806883842, -0.5933605645608605, -0.5876903582181031, -0.5819953735378969, -0.5762776556447321, -0.5705392814412125, -0.5647823580981954, -0.5590090215064953, -0.5532214346930109, -0.5474217862042353, -0.5416122884601026, -0.5357951760811864, -0.5299727041922874, -0.5241471467054617, -0.5183207945855446, -0.5124959541012446, -0.5066749450648457, -0.500860099063569, -0.49505375768559534, -0.4892582707437381, -0.4834759944996911, -0.4777092898917569, -0.47196052076887846, -0.46623205213375396, -0.4605262483977176, -0.454845471650033, -0.44919207994412, -0.44356842560317405, -0.43797685354752747, -0.43241969964601557, -0.42689928909348196, -0.4214179348164817, -0.4159779359090872, -0.41058157610062096, -0.405231122256992, -0.3999288229172058, -0.39467690686647605, -0.38947758174726094, -0.3843330327093932, -0.37924542110035975, -0.37421688319665347, -0.3692495289769777, -0.36434544093797316, -0.35950667295298994, -0.3547352491743118, -0.35003316297909925, -0.3454023759592156, -0.34084481695495106, -0.3363623811325649, -0.3319569291054363, -0.32763028609850353, -0.3233842411555686, -0.31922054638893715, -0.315140916270754, -0.3111470269653237, -0.3072405157015886, -0.3034229801848709, -0.2996959780468942, -0.29606102633303827, -0.29251960102570057, -0.28907313660258716, -0.28572302562868895, -0.28247061838066306, -0.2793172225022819, -0.276264102689587, -0.2733124804043474, -0.27046353361439984, -0.2677183965594315, -0.26507815954075664, -0.2625438687336201, -0.2601165260205872, -0.25779708884455954, -0.25558647007998664, -0.25348553792085576, -0.2514951157840713, -0.24961598222685977, -0.24784887087687957, -0.2461944703737476, -0.2446534243207515, -0.24322633124555654, -0.2419137445687793, -0.24071617257935768, -0.23963407841571155, -0.23866788005175493, -0.23781795028689368, -0.23708461673921677, -0.23646816184116765, -0.23596882283706128, -0.23558679178189573, -0.2353222155409942, -0.23517519579009416, -0.23514578901559724, -0.23523400651477172, -0.23543981439580014, -0.23576313357764478, -0.23620383978980247, -0.2367617635721032, -0.23743669027480419, -0.23822836005930853, -0.23913646789993803, -0.24016066358726518, -0.24130055173359688]\n"
     ]
    }
   ],
   "source": [
    "print(M_A)\n",
    "print(V_x)\n",
    "print(V_y)\n",
    "print(V_z)"
   ]
  },
  {
   "cell_type": "markdown",
   "metadata": {},
   "source": [
    "The component sunlightHoursAnalysis from Ladybug is used to cast shadows on the geometry I drew in Rhino (a box just for a trial). The Tag prints names of months as well as the present sun angles in the frames. 365 frames are produced by setting the slider 'N(day number)' ranging from 0 to 364 to 'animated'."
   ]
  },
  {
   "attachments": {},
   "cell_type": "markdown",
   "metadata": {},
   "source": [
    "![image.png](https://github.com/mmeagher/ARC6818-2017/blob/master/assignment%205/grasshopper1.PNG?raw=true)"
   ]
  },
  {
   "cell_type": "markdown",
   "metadata": {},
   "source": [
    "Figure 3. Grasshopper component arrangements"
   ]
  },
  {
   "cell_type": "markdown",
   "metadata": {},
   "source": [
    "The following code then processes the frames to gif (figure 4). (referenced from StackOverFlow)"
   ]
  },
  {
   "cell_type": "code",
   "execution_count": null,
   "metadata": {
    "collapsed": true
   },
   "outputs": [],
   "source": [
    "import os\n",
    "import imageio\n",
    "\n",
    "png_dir = \"U:/ManW10/Desktop/animation\"\n",
    "images = []\n",
    "for subdir, dirs, files in os.walk(png_dir):\n",
    "    for file in files:\n",
    "        file_path = os.path.join(subdir, file)\n",
    "        if file_path.endswith(\".bmp\"):\n",
    "            images.append(imageio.imread(file_path))\n",
    "imageio.mimsave('U:/ManW10/Desktop/animation/movie.gif', images)"
   ]
  },
  {
   "cell_type": "markdown",
   "metadata": {},
   "source": [
    "![image.png](movie.gif)\n",
    "https://drive.google.com/file/d/1jTT8HtrKph46ZorWOJUnuiQZnejtfWHj/view?usp=sharing"
   ]
  },
  {
   "cell_type": "markdown",
   "metadata": {},
   "source": [
    "Figure 4. A trial gif production given to an uncovered box. It contains the shadows of the box projeced in the sun when the sun is in the south of the sky every day through out a year."
   ]
  },
  {
   "cell_type": "markdown",
   "metadata": {},
   "source": [
    "It takes 4 minutes and 3 minutes to produce the frames and gif respectively, which is not a long time. \n",
    "\n",
    "With the evedence of feasibility, a similar gif is produced for a 'building' as shown in Figure 5. However, to obtain more accurate angle values, another component form Ladybug, sunPath is introduced (after the author failing to learn and apply professional spherical astronomy for several days). By inputing position and time information required, similar output is given to plot the frames.(Figure 6)"
   ]
  },
  {
   "attachments": {},
   "cell_type": "markdown",
   "metadata": {},
   "source": [
    "![image.png](https://github.com/mmeagher/ARC6818-2017/blob/master/assignment%205/rhino1.PNG?raw=true)"
   ]
  },
  {
   "cell_type": "markdown",
   "metadata": {},
   "source": [
    "Fig 5. A box and a dynasour."
   ]
  },
  {
   "cell_type": "markdown",
   "metadata": {},
   "source": [
    "![image.png](https://github.com/mmeagher/ARC6818-2017/blob/master/assignment%205/grasshopper2.PNG?raw=true)"
   ]
  },
  {
   "cell_type": "markdown",
   "metadata": {},
   "source": [
    "Figure 6. Grasshopper components that generate the frames."
   ]
  },
  {
   "cell_type": "markdown",
   "metadata": {},
   "source": [
    "Somehow generating a single frame takes 1.5 minutes or so, 4 hours for 365 frames, but a gif not too distorted from the proposal is produced.(Figure 7)\n",
    "\n",
    "The remarks mean date, time, altitude, azimuth respectively."
   ]
  },
  {
   "cell_type": "markdown",
   "metadata": {},
   "source": [
    "![image.png](movie1.gif)\n",
    "https://drive.google.com/file/d/1uAfW7sfCSPmFc7NlS6uDN1JlAQq2z15z/view?usp=sharing"
   ]
  },
  {
   "cell_type": "markdown",
   "metadata": {},
   "source": [
    "Figure 7. Final product"
   ]
  }
 ],
 "metadata": {
  "kernelspec": {
   "display_name": "Python 3",
   "language": "python",
   "name": "python3"
  },
  "language_info": {
   "codemirror_mode": {
    "name": "ipython",
    "version": 3
   },
   "file_extension": ".py",
   "mimetype": "text/x-python",
   "name": "python",
   "nbconvert_exporter": "python",
   "pygments_lexer": "ipython3",
   "version": "3.6.1"
  }
 },
 "nbformat": 4,
 "nbformat_minor": 2
}
