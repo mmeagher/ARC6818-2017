{
 "cells": [
  {
   "cell_type": "markdown",
   "metadata": {},
   "source": [
    "# The data set includes information when the free throw was taken during the game, who took the shoot and if it went in or not. There are over 600k free throws between 2006 and 2016."
   ]
  },
  {
   "cell_type": "code",
   "execution_count": 1,
   "metadata": {
    "collapsed": true
   },
   "outputs": [],
   "source": [
    "import numpy as np\n",
    "import pandas as pd\n",
    "import matplotlib.pyplot as plt\n",
    "plt.style.use('fivethirtyeight')\n",
    "%matplotlib inline\n",
    "\n",
    "df = pd.read_csv('free_throws.csv')"
   ]
  },
  {
   "cell_type": "code",
   "execution_count": 2,
   "metadata": {},
   "outputs": [
    {
     "name": "stdout",
     "output_type": "stream",
     "text": [
      "<class 'pandas.core.frame.DataFrame'>\n",
      "RangeIndex: 618019 entries, 0 to 618018\n",
      "Data columns (total 11 columns):\n",
      "end_result    618019 non-null object\n",
      "game          618019 non-null object\n",
      "game_id       618019 non-null float64\n",
      "period        618019 non-null float64\n",
      "play          618019 non-null object\n",
      "player        618019 non-null object\n",
      "playoffs      618019 non-null object\n",
      "score         618019 non-null object\n",
      "season        618019 non-null object\n",
      "shot_made     618019 non-null int64\n",
      "time          618019 non-null object\n",
      "dtypes: float64(2), int64(1), object(8)\n",
      "memory usage: 51.9+ MB\n"
     ]
    }
   ],
   "source": [
    "df.info()"
   ]
  },
  {
   "cell_type": "markdown",
   "metadata": {},
   "source": [
    "# Question: How shooting percentage varies over time in a game?\n",
    "\n",
    "# Firstly let's find the free throws percentage over time- number of seconds and minutes from the begining of the match"
   ]
  },
  {
   "cell_type": "code",
   "execution_count": 3,
   "metadata": {
    "collapsed": true
   },
   "outputs": [],
   "source": [
    "df['minute'] = df.time.apply(lambda x: int(x[:len(x)-3]))\n",
    "df['sec'] = df.time.apply(lambda x: int(x[len(x)-2:]))\n",
    "df['abs_min'] = 12 - df['minute']+12*(df.period -1)\n",
    "df['abs_time'] = 60*(df.abs_min-1) + 60 - df['sec']"
   ]
  },
  {
   "cell_type": "code",
   "execution_count": 4,
   "metadata": {},
   "outputs": [
    {
     "name": "stderr",
     "output_type": "stream",
     "text": [
      "C:\\Users\\nuodi\\Anaconda3\\lib\\site-packages\\ipykernel_launcher.py:4: RuntimeWarning: invalid value encountered in true_divide\n",
      "  after removing the cwd from sys.path.\n"
     ]
    }
   ],
   "source": [
    "def group_values(df,minute):\n",
    "    made = len(df[(df.abs_min == minute) & (df.shot_made == 1)])\n",
    "    total = len(df[df.abs_min == minute])\n",
    "    return np.true_divide(made,total)\n",
    "\n",
    "minutes = range(int(max(df.abs_min)))\n",
    "\n",
    "per_min = []\n",
    "for minu in minutes:\n",
    "    per_min.append(group_values(df,minu))"
   ]
  },
  {
   "cell_type": "code",
   "execution_count": 5,
   "metadata": {},
   "outputs": [
    {
     "data": {
      "text/plain": [
       "<matplotlib.text.Text at 0x1be0f9ddb70>"
      ]
     },
     "execution_count": 5,
     "metadata": {},
     "output_type": "execute_result"
    },
    {
     "data": {
      "image/png": "[encoded data removed]",
      "text/plain": [
       "<matplotlib.figure.Figure at 0x1be0f2125c0>"
      ]
     },
     "metadata": {},
     "output_type": "display_data"
    }
   ],
   "source": [
    "plt.plot(minutes,per_min)\n",
    "plt.title('Scoring percentage over time')\n",
    "plt.xlim([1,48])\n",
    "plt.ylim([0.65,0.85])\n",
    "plt.plot([12,12],[0,1], '--', linewidth = 1, color = 'r')\n",
    "plt.plot([24,24],[0,1], '--', linewidth = 1, color = 'r')\n",
    "plt.plot([36,36],[0,1], '--', linewidth = 1, color = 'r')\n",
    "plt.plot([48,48],[0,1], '--', linewidth = 1, color = 'r')\n",
    "plt.xlabel('Minute')\n",
    "plt.ylabel('Free Throws %')"
   ]
  },
  {
   "cell_type": "markdown",
   "metadata": {},
   "source": [
    "Indicates:\n",
    "\n",
    ". A NBA game is 48 minutes and 12 minuts each quarter\n",
    "\n",
    ". Each vertical red dash line means a quarter of the game"
   ]
  },
  {
   "cell_type": "markdown",
   "metadata": {},
   "source": [
    "# From above figure, it is obviously:\n",
    "\n",
    "#1. At the beginning of each quarter, the shooting percentage is always worse\n",
    "#2. At the end of a quarter, the shooting percentage is raising rapidly. Especially at the end of the game. however, the incerase is not significantly.\n",
    "\n",
    "# Conclusion:\n",
    "\n",
    "#1. The tempo of the game affects the shooting percentage, which resluts in a significant increase at the end of quarter and a worse shooting percentage at the beginning."
   ]
  },
  {
   "cell_type": "markdown",
   "metadata": {},
   "source": [
    "# Question: Is it the number of shots reduced lead to the shooting percentage increased?\n",
    "\n",
    "# Now let's plot the number of shots over time"
   ]
  },
  {
   "cell_type": "code",
   "execution_count": 6,
   "metadata": {
    "collapsed": true
   },
   "outputs": [],
   "source": [
    "minutes_df = pd.DataFrame()\n",
    "minutes_df['minutes'] = range(int(max(df.abs_min)))\n",
    "minutes_df['shots'] = minutes_df.minutes.apply(lambda x: len(df[df.abs_min == x]))\n",
    "minutes_df['players_num'] = minutes_df.minutes.apply(lambda x: len(np.unique(df.player[df.abs_min == x])))"
   ]
  },
  {
   "cell_type": "code",
   "execution_count": 7,
   "metadata": {},
   "outputs": [
    {
     "data": {
      "text/plain": [
       "[<matplotlib.lines.Line2D at 0x1be0fb3a208>]"
      ]
     },
     "execution_count": 7,
     "metadata": {},
     "output_type": "execute_result"
    },
    {
     "data": {
      "image/png": "[encoded data removed]",
      "text/plain": [
       "<matplotlib.figure.Figure at 0x1be0f212748>"
      ]
     },
     "metadata": {},
     "output_type": "display_data"
    }
   ],
   "source": [
    "plt.plot(minutes_df['shots'])\n",
    "plt.title('Number of Shots over time')\n",
    "plt.ylabel('Number of Shots')\n",
    "plt.xlabel('Minute')\n",
    "plt.xlim([1,48])\n",
    "plt.plot([12,12],[0,40000], '--', linewidth = 1, color = 'r')\n",
    "plt.plot([24,24],[0,40000], '--', linewidth = 1, color = 'r')\n",
    "plt.plot([36,36],[0,40000], '--', linewidth = 1, color = 'r')\n",
    "plt.plot([48,48],[0,40000], '--', linewidth = 1, color = 'r')"
   ]
  },
  {
   "cell_type": "markdown",
   "metadata": {},
   "source": [
    "# From above figure:\n",
    "\n",
    "#1. therefore, the shooting percentage increased is not due to the number of shots decreased.\n",
    "#2. It is obviouly, the number of shots will have a rapid increase over the time at each quarter, especially, at the end of each quater. Again the last quarter is an anomaly, where the number of shots explosive growth.\n",
    "\n",
    "\n",
    "# Conclusion:\n",
    "\n",
    "#1. Due to a certain limit of fouls per quarter, the attacker can get two free throws after every foul, which result in a significant increase of number of shots in the end of quarter.\n",
    "#2. And as a basketball lover, there is an another reason leads a increase of number of shots. That foul tactics, or called Hack-a-Shaq tactic are common at the last minute of the game.\n",
    "\n",
    "# Hence, at the end of the game, the better shooters will be stay at court to break competing's plan"
   ]
  },
  {
   "cell_type": "markdown",
   "metadata": {},
   "source": [
    "# Question:Who can be determined as a good shooter?\n",
    "\n",
    "# Now let's plot the distribution of shooting percentage for all players."
   ]
  },
  {
   "cell_type": "code",
   "execution_count": 16,
   "metadata": {},
   "outputs": [],
   "source": [
    "shooting = df.groupby([\"player\"])[\"shot_made\"].agg([\"size\", \"mean\"])\n",
    "shooting = shooting.rename(columns={\"size\": \"ft_count\", \"mean\": \"percentage\"})\n",
    "shooting = shooting[shooting.ft_count>=100]"
   ]
  },
  {
   "cell_type": "code",
   "execution_count": 17,
   "metadata": {},
   "outputs": [
    {
     "data": {
      "text/plain": [
       "<matplotlib.text.Text at 0x1be10110320>"
      ]
     },
     "execution_count": 17,
     "metadata": {},
     "output_type": "execute_result"
    },
    {
     "data": {
      "image/png": "[encoded data removed]",
      "text/plain": [
       "<matplotlib.figure.Figure at 0x1be1045e1d0>"
      ]
     },
     "metadata": {},
     "output_type": "display_data"
    }
   ],
   "source": [
    "shooting.percentage.hist(bins=50, figsize=(8,5))\n",
    "\n",
    "plt.title(\"Distribution of Shooting Percentages\", fontsize=20)\n",
    "plt.xlabel(\"Shooting Percentage\")\n",
    "\n",
    "plt.vlines(x=shooting.percentage.median(), ymin=0, ymax=45, color=\"red\", linestyle=\"--\")\n",
    "plt.text(x=0.72, y=-1.3, s=\"median\", color=\"red\")"
   ]
  },
  {
   "cell_type": "markdown",
   "metadata": {},
   "source": [
    "# From above figure:\n",
    "\n",
    "#1. Most of player's shooting percentage are between 70% and 80%.a nd the meadian is at around 75%.\n",
    "\n",
    "# Conclusion:\n",
    "\n",
    "#1. The player, whom free throws shooting percentage are higher than the 80% can be determined as a good shooter.\n",
    "#2. The player, whom free throws shooting percentage are lower than the 70% can be determined as a bad shooter."
   ]
  },
  {
   "cell_type": "markdown",
   "metadata": {},
   "source": [
    "# Now let's find the best ten shooters in the NBA"
   ]
  },
  {
   "cell_type": "code",
   "execution_count": 18,
   "metadata": {},
   "outputs": [
    {
     "data": {
      "text/html": [
       "<div>\n",
       "<style>\n",
       "    .dataframe thead tr:only-child th {\n",
       "        text-align: right;\n",
       "    }\n",
       "\n",
       "    .dataframe thead th {\n",
       "        text-align: left;\n",
       "    }\n",
       "\n",
       "    .dataframe tbody tr th {\n",
       "        vertical-align: top;\n",
       "    }\n",
       "</style>\n",
       "<table border=\"1\" class=\"dataframe\">\n",
       "  <thead>\n",
       "    <tr style=\"text-align: right;\">\n",
       "      <th></th>\n",
       "      <th>ft_count</th>\n",
       "      <th>percentage</th>\n",
       "    </tr>\n",
       "    <tr>\n",
       "      <th>player</th>\n",
       "      <th></th>\n",
       "      <th></th>\n",
       "    </tr>\n",
       "  </thead>\n",
       "  <tbody>\n",
       "    <tr>\n",
       "      <th>Steve Nash</th>\n",
       "      <td>1591</td>\n",
       "      <td>0.913891</td>\n",
       "    </tr>\n",
       "    <tr>\n",
       "      <th>Brian Roberts</th>\n",
       "      <td>337</td>\n",
       "      <td>0.910979</td>\n",
       "    </tr>\n",
       "    <tr>\n",
       "      <th>Ray Allen</th>\n",
       "      <td>2045</td>\n",
       "      <td>0.903178</td>\n",
       "    </tr>\n",
       "    <tr>\n",
       "      <th>Chauncey Billups</th>\n",
       "      <td>2793</td>\n",
       "      <td>0.901540</td>\n",
       "    </tr>\n",
       "    <tr>\n",
       "      <th>Peja Stojakovic</th>\n",
       "      <td>455</td>\n",
       "      <td>0.901099</td>\n",
       "    </tr>\n",
       "    <tr>\n",
       "      <th>Stephen Curry</th>\n",
       "      <td>2129</td>\n",
       "      <td>0.897605</td>\n",
       "    </tr>\n",
       "    <tr>\n",
       "      <th>Brent Barry</th>\n",
       "      <td>172</td>\n",
       "      <td>0.895349</td>\n",
       "    </tr>\n",
       "    <tr>\n",
       "      <th>Dirk Nowitzki</th>\n",
       "      <td>4702</td>\n",
       "      <td>0.894938</td>\n",
       "    </tr>\n",
       "    <tr>\n",
       "      <th>Eddie House</th>\n",
       "      <td>236</td>\n",
       "      <td>0.894068</td>\n",
       "    </tr>\n",
       "    <tr>\n",
       "      <th>J.J. Redick</th>\n",
       "      <td>1540</td>\n",
       "      <td>0.887662</td>\n",
       "    </tr>\n",
       "  </tbody>\n",
       "</table>\n",
       "</div>"
      ],
      "text/plain": [
       "                  ft_count  percentage\n",
       "player                                \n",
       "Steve Nash            1591    0.913891\n",
       "Brian Roberts          337    0.910979\n",
       "Ray Allen             2045    0.903178\n",
       "Chauncey Billups      2793    0.901540\n",
       "Peja Stojakovic        455    0.901099\n",
       "Stephen Curry         2129    0.897605\n",
       "Brent Barry            172    0.895349\n",
       "Dirk Nowitzki         4702    0.894938\n",
       "Eddie House            236    0.894068\n",
       "J.J. Redick           1540    0.887662"
      ]
     },
     "execution_count": 18,
     "metadata": {},
     "output_type": "execute_result"
    }
   ],
   "source": [
    "shooting.sort_values(by=\"percentage\", ascending=False)[:10]"
   ]
  },
  {
   "cell_type": "markdown",
   "metadata": {},
   "source": [
    "# From above table:\n",
    "\n",
    "#1. Nine out of ten are Point Guards(PG) or Shooting Guards(SG), whom height are below 2m and have good outside scoting.\n",
    "#2. There is only one big man (height>2m) in the top ten, Dirk Nowitzki (2.13m), however, he is one of the best scorer in the NBA.\n",
    "\n",
    "# Conclusion:\n",
    "\n",
    "#1. The shooting percentage is in direct propotional to the player's outside scoting.\n",
    "#2. The PG nad SG always make the most free throws and with high shooting percentage."
   ]
  },
  {
   "cell_type": "markdown",
   "metadata": {},
   "source": [
    "# Question:Will player's height influence the free throws shooting percentage?\n",
    "\n",
    "# Now let's find the worst ten shooters in the NBA"
   ]
  },
  {
   "cell_type": "code",
   "execution_count": 19,
   "metadata": {},
   "outputs": [
    {
     "data": {
      "text/html": [
       "<div>\n",
       "<style>\n",
       "    .dataframe thead tr:only-child th {\n",
       "        text-align: right;\n",
       "    }\n",
       "\n",
       "    .dataframe thead th {\n",
       "        text-align: left;\n",
       "    }\n",
       "\n",
       "    .dataframe tbody tr th {\n",
       "        vertical-align: top;\n",
       "    }\n",
       "</style>\n",
       "<table border=\"1\" class=\"dataframe\">\n",
       "  <thead>\n",
       "    <tr style=\"text-align: right;\">\n",
       "      <th></th>\n",
       "      <th>ft_count</th>\n",
       "      <th>percentage</th>\n",
       "    </tr>\n",
       "    <tr>\n",
       "      <th>player</th>\n",
       "      <th></th>\n",
       "      <th></th>\n",
       "    </tr>\n",
       "  </thead>\n",
       "  <tbody>\n",
       "    <tr>\n",
       "      <th>Joey Dorsey</th>\n",
       "      <td>162</td>\n",
       "      <td>0.376543</td>\n",
       "    </tr>\n",
       "    <tr>\n",
       "      <th>Clint Capela</th>\n",
       "      <td>268</td>\n",
       "      <td>0.376866</td>\n",
       "    </tr>\n",
       "    <tr>\n",
       "      <th>Andre Drummond</th>\n",
       "      <td>1459</td>\n",
       "      <td>0.378341</td>\n",
       "    </tr>\n",
       "    <tr>\n",
       "      <th>Kyrylo Fesenko</th>\n",
       "      <td>155</td>\n",
       "      <td>0.400000</td>\n",
       "    </tr>\n",
       "    <tr>\n",
       "      <th>Ben Wallace</th>\n",
       "      <td>837</td>\n",
       "      <td>0.406213</td>\n",
       "    </tr>\n",
       "    <tr>\n",
       "      <th>Jan Vesely</th>\n",
       "      <td>157</td>\n",
       "      <td>0.407643</td>\n",
       "    </tr>\n",
       "    <tr>\n",
       "      <th>DeAndre Jordan</th>\n",
       "      <td>2630</td>\n",
       "      <td>0.419392</td>\n",
       "    </tr>\n",
       "    <tr>\n",
       "      <th>Lou Amundson</th>\n",
       "      <td>174</td>\n",
       "      <td>0.419540</td>\n",
       "    </tr>\n",
       "    <tr>\n",
       "      <th>Josh Boone</th>\n",
       "      <td>478</td>\n",
       "      <td>0.447699</td>\n",
       "    </tr>\n",
       "    <tr>\n",
       "      <th>Louis Amundson</th>\n",
       "      <td>458</td>\n",
       "      <td>0.454148</td>\n",
       "    </tr>\n",
       "  </tbody>\n",
       "</table>\n",
       "</div>"
      ],
      "text/plain": [
       "                ft_count  percentage\n",
       "player                              \n",
       "Joey Dorsey          162    0.376543\n",
       "Clint Capela         268    0.376866\n",
       "Andre Drummond      1459    0.378341\n",
       "Kyrylo Fesenko       155    0.400000\n",
       "Ben Wallace          837    0.406213\n",
       "Jan Vesely           157    0.407643\n",
       "DeAndre Jordan      2630    0.419392\n",
       "Lou Amundson         174    0.419540\n",
       "Josh Boone           478    0.447699\n",
       "Louis Amundson       458    0.454148"
      ]
     },
     "execution_count": 19,
     "metadata": {},
     "output_type": "execute_result"
    }
   ],
   "source": [
    "shooting.sort_values(by=\"percentage\")[:10]"
   ]
  },
  {
   "cell_type": "markdown",
   "metadata": {},
   "source": [
    "# From above table:\n",
    "\n",
    "#1. All of the worst shooters are Center(C) amd Power Foward(PF), whom heigh are usually higher than 2m.\n",
    "\n",
    "# Conclusion:\n",
    "\n",
    "#1. The player's height is inversely proportional to the free throws shooting percentage."
   ]
  },
  {
   "cell_type": "markdown",
   "metadata": {},
   "source": [
    "# Overall:\n",
    "\n",
    "Due to the free throw is the simplest and most effective method of scoring, all of basketball player should master this skill. Especially, the most valueable players of their respective teams, since they have the ball more often and get also fouled more often."
   ]
  },
  {
   "cell_type": "code",
   "execution_count": null,
   "metadata": {
    "collapsed": true
   },
   "outputs": [],
   "source": []
  }
 ],
 "metadata": {
  "kernelspec": {
   "display_name": "Python 3",
   "language": "python",
   "name": "python3"
  },
  "language_info": {
   "codemirror_mode": {
    "name": "ipython",
    "version": 3
   },
   "file_extension": ".py",
   "mimetype": "text/x-python",
   "name": "python",
   "nbconvert_exporter": "python",
   "pygments_lexer": "ipython3",
   "version": "3.6.2"
  }
 },
 "nbformat": 4,
 "nbformat_minor": 2
}
