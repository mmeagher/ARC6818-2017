{
 "cells": [
  {
   "cell_type": "markdown",
   "metadata": {},
   "source": [
    "## Using Twitter with NLTK"
   ]
  },
  {
   "cell_type": "markdown",
   "metadata": {},
   "source": [
    "*First you need to create a __developer account__ with Twitter by signing in to your twitter account on the [twitter apps page](https://apps.twitter.com). Click on __'Create new app'__ and fill in the details. Once your app has been created go to the tab labeled 'Keys and Access Tokens' and copy the following four items: Consumer Key, Consumer Secret, Access Token, Access Token Secret. Then [follow the instructions here](http://www.nltk.org/howto/twitter.html#Storing-your-keys) for storing your keys in a way that's secure and accessible to python. On a Windows system you need to create an environment variable called __TWITTER__ that contains the path to a file called __credentials.txt__ containing your twitter keys and tokens. Once you've done completed these steps you'll be able to use NLTK's Twitter class without specifying this information.*"
   ]
  },
  {
   "cell_type": "markdown",
   "metadata": {
    "collapsed": true
   },
   "source": [
    "*This tutorial uses several modules not included in Anaconda: twython and wordcloud. You can find [instructions for installing twython here](http://www.nltk.org/howto/twitter.html#Install-Twython), and for wordcloud the [installation instructions are here](https://github.com/amueller/word_cloud). The tutorial is based on [this overview of the use of NLTK with Twitter](http://www.nltk.org/howto/twitter.html).*"
   ]
  },
  {
   "cell_type": "markdown",
   "metadata": {
    "collapsed": true
   },
   "source": [
    "*To search or stream from Twitter you first need to import the Twitter module from NLTK*"
   ]
  },
  {
   "cell_type": "code",
   "execution_count": null,
   "metadata": {
    "collapsed": true
   },
   "outputs": [],
   "source": [
    "\n",
    "from nltk.twitter import Query, Streamer, Twitter, TweetViewer, TweetWriter, credsfromfile\n"
   ]
  },
  {
   "cell_type": "markdown",
   "metadata": {},
   "source": [
    "*__credsfromfile()__ loads the personal tokens and keys using the TWITTER environment variable that you defined above. Once this is defined you can sample the twitter live stream.*"
   ]
  },
  {
   "cell_type": "code",
   "execution_count": 2,
   "metadata": {},
   "outputs": [],
   "source": [
    "oauth = credsfromfile(creds_file=\"credentials.txt\", subdir=\"twitter-files\")"
   ]
  },
  {
   "cell_type": "code",
   "execution_count": 3,
   "metadata": {},
   "outputs": [
    {
     "name": "stdout",
     "output_type": "stream",
     "text": [
      "RT @torathura: 陸上競技でどっちが\n",
      "しんどい？\n",
      "400m→RT\n",
      "1500m→いいね\n",
      "@YS_Lauren_t Lol Dey Look Better Den Dat 1... Dat Lil Yorkie Dog Y'all Like Look Better Den Dat\n",
      "Mclaren é um dos carros mais lindos\n",
      "@Abrar14ab @asas566o لبى تفاصيل الوجع في وضوحك\n",
      "طهور يـ اعذب من شكى لي ولا باس\n",
      "\n",
      "ياحلو احاسيسك ، وياحلو بوحك\n",
      "واللي خلقني كلك إحساس فِـ إحساس\n",
      "RT @iamm_du: @martinslenee Te amo 💓\n",
      "@2aiix اعشقج❤️❤️🙄.\n",
      "RT @sherlockaf1: In honor of the new ‘The Incredibles 2’ trailer, \n",
      "here’s the most iconic scene from the first one.\n",
      "A true milestone… \n",
      "RT @ersintopac51: @mahirunal  https://t.co/e4gjKhzK7E\n",
      "@doraemonnokodom ＼残念！ハズレです…😭／\n",
      "ご応募ありがとうございました！\n",
      "また挑戦してくださいね♪\n",
      "\n",
      "バンホーテンココア\n",
      "明治白のひととき\n",
      "明治ロカボーノ\n",
      "をこれからもよろしくお願いします！\n",
      "\n",
      "※未フォローの方は… https://t.co/LBF5P5yD29\n",
      "서울랜드 멀어서 안대안대,,,\n",
      "Written 10 Tweets\n"
     ]
    }
   ],
   "source": [
    "client = Streamer(**oauth)\n",
    "client.register(TweetViewer(limit=10))\n",
    "client.sample()"
   ]
  },
  {
   "cell_type": "markdown",
   "metadata": {},
   "source": [
    "*You can also add __keywords__ to filter the results*"
   ]
  },
  {
   "cell_type": "code",
   "execution_count": 4,
   "metadata": {},
   "outputs": [
    {
     "name": "stdout",
     "output_type": "stream",
     "text": [
      "RT @Eyolo: A very happy birthday to my best friend and overall amazing person, @liviwatka https://t.co/Mi0WD3snzg\n",
      "RT @BieberSideBR: Happy birthday @jaxonbieber https://t.co/cCPGTkWPoU\n",
      "#officialDreamers n AKO sa Wakas...!!!!!!! G i luv u...happy super… https://t.co/D8LF0cacnv\n",
      "2017-11-20 23:12\n",
      "HAPPY HOUR\n",
      "WEEZER\n",
      "https://t.co/JA552LyGWx\n",
      "#interfmplay\n",
      "RT @ohluhana: My biggest \"What If\" in life is \"What if that TOP x Beenzino collab pushed through...\" I would have literally passe… \n",
      "@melissamcgurn_ big happy bday to my bestfriend💓💓 hope your day is as special as you, love you sm xxx https://t.co/S7ZdDsZIRR\n",
      "Happy birthday to the Good man the lover of humanity, the one and only man who has traded his… https://t.co/Dmxg6uHBhq\n",
      "if lavar ball ether the donald on CNN i can die a happy man\n",
      "🎶 Lately, I’m just happy to be alive with ‘So Much Trouble In The World’ #bobmarley   #love… https://t.co/qULjKGYhlq\n",
      "RT @baejuhyeoned: GUESS WHO'S A HAPPY SHIPPER TONIGHT https://t.co/CqAcUb9I1g\n",
      "Written 10 Tweets\n"
     ]
    }
   ],
   "source": [
    "client = Streamer(**oauth)\n",
    "client.register(TweetViewer(limit=10))\n",
    "client.filter(track='sad, happy')"
   ]
  },
  {
   "cell_type": "markdown",
   "metadata": {},
   "source": [
    "*You can search the stream of selected twitter __users__*"
   ]
  },
  {
   "cell_type": "code",
   "execution_count": 5,
   "metadata": {},
   "outputs": [
    {
     "name": "stdout",
     "output_type": "stream",
     "text": [
      "@AdamRamsay what does that mean?\n",
      "There is a difference between doing your country down and recognising that it has been done down. https://t.co/rse0faiYbH\n",
      "We live by proxy, employing other people to remain active on our behalf. We watch people on TV jumping up and down… https://t.co/jGANvkv7wP\n",
      "Interesting, as ever, by @MilesKing10: https://t.co/GU9Vf5knay\n",
      "@KoniniSt @JohnQuiggin @TheNBR Thanks. Could I have a link for that?\n",
      "@NathanJDowns A question I asked repeatedly. They refused to answer\n",
      "BBC news values: \n",
      "Extreme scepticism towards stories that challenge the status quo.\n",
      "Naive receptivity to stories th… https://t.co/bfYgFijr2t\n"
     ]
    }
   ],
   "source": [
    "client = Query(**oauth)\n",
    "client.register(TweetViewer(limit=10))\n",
    "client.user_tweets('GeorgeMonbiot', 10)"
   ]
  },
  {
   "cell_type": "code",
   "execution_count": 6,
   "metadata": {},
   "outputs": [
    {
     "name": "stdout",
     "output_type": "stream",
     "text": [
      "{'contributors': None,\n",
      " 'coordinates': {...},\n",
      " 'created_at': 'Mon Nov 20 13:42:07 +0000 2017',\n",
      " 'entities': {...},\n",
      " 'favorite_count': 0,\n",
      " 'favorited': False,\n",
      " 'geo': {...},\n",
      " 'id': 932604975116566528,\n",
      " 'id_str': '932604975116566528',\n",
      " 'in_reply_to_screen_name': None,\n",
      " 'in_reply_to_status_id': None,\n",
      " 'in_reply_to_status_id_str': None,\n",
      " 'in_reply_to_user_id': None,\n",
      " 'in_reply_to_user_id_str': None,\n",
      " 'is_quote_status': False,\n",
      " 'lang': 'en',\n",
      " 'metadata': {...},\n",
      " 'place': {...},\n",
      " 'retweet_count': 1,\n",
      " 'retweeted': False,\n",
      " 'source': '<a href=\"http://twitter.com/download/android\" '\n",
      "           'rel=\"nofollow\">Twitter for Android</a>',\n",
      " 'text': 'The latest #NLTK version is 3.2.5. To check your version, print '\n",
      "         'nltk.__version__ after importing nltk. If you do no… '\n",
      "         'https://t.co/0L4BhtbIKe',\n",
      " 'truncated': True,\n",
      " 'user': {...}}\n"
     ]
    }
   ],
   "source": [
    "client = Query(**oauth)\n",
    "tweets = client.search_tweets(keywords='nltk', limit=10)\n",
    "tweet = next(tweets)\n",
    "from pprint import pprint\n",
    "pprint(tweet, depth=1)"
   ]
  },
  {
   "cell_type": "markdown",
   "metadata": {},
   "source": [
    "*And you can search the Twitter stream for keywords using the __Query class__*"
   ]
  },
  {
   "cell_type": "code",
   "execution_count": 7,
   "metadata": {},
   "outputs": [
    {
     "name": "stdout",
     "output_type": "stream",
     "text": [
      "Mon Nov 20 14:11:59 +0000 2017\n",
      "Mon Nov 20 14:11:58 +0000 2017\n",
      "Mon Nov 20 14:11:58 +0000 2017\n",
      "Mon Nov 20 14:11:57 +0000 2017\n",
      "Mon Nov 20 14:11:57 +0000 2017\n",
      "Mon Nov 20 14:11:56 +0000 2017\n",
      "Mon Nov 20 14:11:56 +0000 2017\n",
      "Mon Nov 20 14:11:56 +0000 2017\n",
      "Mon Nov 20 14:11:55 +0000 2017\n"
     ]
    }
   ],
   "source": [
    "client = Query(**oauth)\n",
    "tweets = client.search_tweets(keywords='donald trump', limit=10)\n",
    "tweet = next(tweets)\n",
    "\n",
    "for tweet in tweets:\n",
    "    print(tweet['created_at'])"
   ]
  },
  {
   "cell_type": "markdown",
   "metadata": {
    "collapsed": true
   },
   "source": [
    "*It's also possible to __extract specific metadata__ from the tweets; a complete reference for the JSON tweet structure is [available here](https://dev.twitter.com/overview/api/tweets). IN the example below we do a search for Hillary Clinton and extract the __location and text__ of each tweet. This information is stored in the list variables __lat__ and __lon__, and the string __myText__.*"
   ]
  },
  {
   "cell_type": "code",
   "execution_count": 8,
   "metadata": {
    "collapsed": true
   },
   "outputs": [],
   "source": [
    "client = Query(**oauth)\n",
    "tweets = client.search_tweets(keywords='hillary clinton', limit=1000)\n",
    "tweet = next(tweets)\n",
    "lat = []\n",
    "lon = []\n",
    "myTweets = \"\"\n",
    "for tweet in tweets:\n",
    "    text = tweet['text']\n",
    "    myTweets += ' ' + text\n",
    "    coords = tweet[\"coordinates\"]\n",
    "    if (coords is not None):\n",
    "        print(coords['coordinates'][0])\n",
    "        print(coords['coordinates'][1])\n",
    "        lat.append(coords['coordinates'][0])\n",
    "        lon.append(coords['coordinates'][1])\n",
    "        \n",
    "        "
   ]
  },
  {
   "cell_type": "code",
   "execution_count": 9,
   "metadata": {
    "collapsed": true
   },
   "outputs": [],
   "source": [
    "%matplotlib inline\n",
    "\n",
    "from mpl_toolkits.basemap import Basemap\n",
    "import matplotlib.pyplot as plt"
   ]
  },
  {
   "cell_type": "markdown",
   "metadata": {},
   "source": [
    "*You can produce a map of tweet locations using Basemap or Bokeh*"
   ]
  },
  {
   "cell_type": "code",
   "execution_count": 10,
   "metadata": {},
   "outputs": [
    {
     "ename": "IndexError",
     "evalue": "list index out of range",
     "output_type": "error",
     "traceback": [
      "\u001b[1;31m---------------------------------------------------------------------------\u001b[0m",
      "\u001b[1;31mIndexError\u001b[0m                                Traceback (most recent call last)",
      "\u001b[1;32m<ipython-input-10-fedf43d49619>\u001b[0m in \u001b[0;36m<module>\u001b[1;34m()\u001b[0m\n\u001b[0;32m      5\u001b[0m \u001b[0mmarkeralpha\u001b[0m \u001b[1;33m=\u001b[0m \u001b[1;36m1\u001b[0m\u001b[1;33m\u001b[0m\u001b[0m\n\u001b[0;32m      6\u001b[0m \u001b[1;33m\u001b[0m\u001b[0m\n\u001b[1;32m----> 7\u001b[1;33m \u001b[0mm\u001b[0m \u001b[1;33m=\u001b[0m \u001b[0mBasemap\u001b[0m\u001b[1;33m(\u001b[0m\u001b[0mprojection\u001b[0m\u001b[1;33m=\u001b[0m\u001b[1;34m'moll'\u001b[0m\u001b[1;33m,\u001b[0m\u001b[0mlat_0\u001b[0m\u001b[1;33m=\u001b[0m\u001b[0mlat\u001b[0m\u001b[1;33m[\u001b[0m\u001b[1;36m0\u001b[0m\u001b[1;33m]\u001b[0m\u001b[1;33m,\u001b[0m\u001b[0mlon_0\u001b[0m\u001b[1;33m=\u001b[0m\u001b[0mlon\u001b[0m\u001b[1;33m[\u001b[0m\u001b[1;36m0\u001b[0m\u001b[1;33m]\u001b[0m\u001b[1;33m,\u001b[0m\u001b[0mresolution\u001b[0m\u001b[1;33m=\u001b[0m\u001b[1;34m'l'\u001b[0m\u001b[1;33m)\u001b[0m\u001b[1;33m\u001b[0m\u001b[0m\n\u001b[0m\u001b[0;32m      8\u001b[0m \u001b[0mm\u001b[0m\u001b[1;33m.\u001b[0m\u001b[0mdrawcoastlines\u001b[0m\u001b[1;33m(\u001b[0m\u001b[0mlinewidth\u001b[0m\u001b[1;33m=\u001b[0m\u001b[1;36m0.25\u001b[0m\u001b[1;33m)\u001b[0m\u001b[1;33m\u001b[0m\u001b[0m\n\u001b[0;32m      9\u001b[0m \u001b[1;33m\u001b[0m\u001b[0m\n",
      "\u001b[1;31mIndexError\u001b[0m: list index out of range"
     ]
    },
    {
     "data": {
      "text/plain": [
       "<matplotlib.figure.Figure at 0x2421283db00>"
      ]
     },
     "metadata": {},
     "output_type": "display_data"
    }
   ],
   "source": [
    "fig = plt.figure(figsize=(20, 14))\n",
    "markersize = 400\n",
    "markertype = '.'\n",
    "markercolor = 'red'\n",
    "markeralpha = 1\n",
    "\n",
    "m = Basemap(projection='moll',lat_0=lat[0],lon_0=lon[0],resolution='l')\n",
    "m.drawcoastlines(linewidth=0.25)\n",
    "\n",
    "# Convert locations to x/y coordinates and plot them as dots.\n",
    "x, y = m(lat, lon)\n",
    "m.scatter(x, y, markersize, marker=markertype, color=markercolor, alpha=markeralpha)\n",
    "plt.show()"
   ]
  },
  {
   "cell_type": "code",
   "execution_count": 11,
   "metadata": {
    "collapsed": true
   },
   "outputs": [],
   "source": [
    "import nltk\n",
    "\n",
    "def graph(myFile):\n",
    "  tokens = nltk.tokenize.word_tokenize(myFile)\n",
    "  fd = nltk.FreqDist(tokens)\n",
    "  fd.plot(30,cumulative=False)"
   ]
  },
  {
   "cell_type": "code",
   "execution_count": 12,
   "metadata": {},
   "outputs": [
    {
     "data": {
      "image/png": "[encoded data removed]",
      "text/plain": [
       "<matplotlib.figure.Figure at 0x2420dd36b70>"
      ]
     },
     "metadata": {},
     "output_type": "display_data"
    }
   ],
   "source": [
    "graph(myTweets)"
   ]
  },
  {
   "cell_type": "code",
   "execution_count": 13,
   "metadata": {},
   "outputs": [
    {
     "ename": "SyntaxError",
     "evalue": "Missing parentheses in call to 'print'. Did you mean print(myTweets)? (<ipython-input-13-b3ecf98d99d7>, line 1)",
     "output_type": "error",
     "traceback": [
      "\u001b[1;36m  File \u001b[1;32m\"<ipython-input-13-b3ecf98d99d7>\"\u001b[1;36m, line \u001b[1;32m1\u001b[0m\n\u001b[1;33m    print myTweets\u001b[0m\n\u001b[1;37m                 ^\u001b[0m\n\u001b[1;31mSyntaxError\u001b[0m\u001b[1;31m:\u001b[0m Missing parentheses in call to 'print'. Did you mean print(myTweets)?\n"
     ]
    }
   ],
   "source": [
    "print myTweets"
   ]
  },
  {
   "cell_type": "code",
   "execution_count": 14,
   "metadata": {},
   "outputs": [
    {
     "ename": "ModuleNotFoundError",
     "evalue": "No module named 'wordcloud'",
     "output_type": "error",
     "traceback": [
      "\u001b[1;31m---------------------------------------------------------------------------\u001b[0m",
      "\u001b[1;31mModuleNotFoundError\u001b[0m                       Traceback (most recent call last)",
      "\u001b[1;32m<ipython-input-14-5950926a4b9e>\u001b[0m in \u001b[0;36m<module>\u001b[1;34m()\u001b[0m\n\u001b[0;32m      1\u001b[0m \u001b[1;32mfrom\u001b[0m \u001b[0mos\u001b[0m \u001b[1;32mimport\u001b[0m \u001b[0mpath\u001b[0m\u001b[1;33m\u001b[0m\u001b[0m\n\u001b[1;32m----> 2\u001b[1;33m \u001b[1;32mfrom\u001b[0m \u001b[0mwordcloud\u001b[0m \u001b[1;32mimport\u001b[0m \u001b[0mWordCloud\u001b[0m\u001b[1;33m,\u001b[0m \u001b[0mSTOPWORDS\u001b[0m\u001b[1;33m\u001b[0m\u001b[0m\n\u001b[0m\u001b[0;32m      3\u001b[0m \u001b[1;33m\u001b[0m\u001b[0m\n\u001b[0;32m      4\u001b[0m \u001b[1;31m# define stopwords: these will be excluded from the wordcloud\u001b[0m\u001b[1;33m\u001b[0m\u001b[1;33m\u001b[0m\u001b[0m\n\u001b[0;32m      5\u001b[0m \u001b[0mstopwords\u001b[0m \u001b[1;33m=\u001b[0m \u001b[0mset\u001b[0m\u001b[1;33m(\u001b[0m\u001b[0mSTOPWORDS\u001b[0m\u001b[1;33m)\u001b[0m\u001b[1;33m\u001b[0m\u001b[0m\n",
      "\u001b[1;31mModuleNotFoundError\u001b[0m: No module named 'wordcloud'"
     ]
    }
   ],
   "source": [
    "from os import path\n",
    "from wordcloud import WordCloud, STOPWORDS\n",
    "\n",
    "# define stopwords: these will be excluded from the wordcloud\n",
    "stopwords = set(STOPWORDS)\n",
    "stopwords.add(\"https\")\n",
    "stopwords.add(\"RT\")\n",
    "\n",
    "# Generate a word cloud image\n",
    "wc = WordCloud(background_color=\"black\", max_words=2000, stopwords=stopwords)\n",
    "wc.generate(myTweets)\n",
    "\n",
    "# Display the generated image:\n",
    "# the matplotlib way:\n",
    "import matplotlib.pyplot as plt\n",
    "plt.imshow(wc)\n",
    "plt.axis(\"off\")"
   ]
  },
  {
   "cell_type": "code",
   "execution_count": 15,
   "metadata": {},
   "outputs": [
    {
     "ename": "SyntaxError",
     "evalue": "Missing parentheses in call to 'print'. Did you mean print(stopwords)? (<ipython-input-15-c160e9277a9d>, line 1)",
     "output_type": "error",
     "traceback": [
      "\u001b[1;36m  File \u001b[1;32m\"<ipython-input-15-c160e9277a9d>\"\u001b[1;36m, line \u001b[1;32m1\u001b[0m\n\u001b[1;33m    print stopwords\u001b[0m\n\u001b[1;37m                  ^\u001b[0m\n\u001b[1;31mSyntaxError\u001b[0m\u001b[1;31m:\u001b[0m Missing parentheses in call to 'print'. Did you mean print(stopwords)?\n"
     ]
    }
   ],
   "source": [
    "print stopwords"
   ]
  },
  {
   "cell_type": "code",
   "execution_count": null,
   "metadata": {
    "collapsed": true
   },
   "outputs": [],
   "source": []
  },
  {
   "cell_type": "code",
   "execution_count": null,
   "metadata": {
    "collapsed": true
   },
   "outputs": [],
   "source": []
  }
 ],
 "metadata": {
  "kernelspec": {
   "display_name": "Python 3",
   "language": "python",
   "name": "python3"
  },
  "language_info": {
   "codemirror_mode": {
    "name": "ipython",
    "version": 3
   },
   "file_extension": ".py",
   "mimetype": "text/x-python",
   "name": "python",
   "nbconvert_exporter": "python",
   "pygments_lexer": "ipython3",
   "version": "3.6.3"
  },
  "widgets": {
   "state": {},
   "version": "1.1.2"
  }
 },
 "nbformat": 4,
 "nbformat_minor": 1
}
