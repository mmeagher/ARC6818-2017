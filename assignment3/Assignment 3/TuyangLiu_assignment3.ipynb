{
 "cells": [
  {
   "cell_type": "code",
   "execution_count": 1,
   "metadata": {},
   "outputs": [],
   "source": [
    "# In this project, 4 turtles will be introduced\n",
    "# There's 1 for the clock base, and 3 for clock hands\n",
    "# 1. Make base for clock\n",
    "# 2. Make hands for clock\n",
    "# DIFFICULT BITS\n",
    "# Instead of drawing every hands(pins), register turtles to a new shape to\n",
    "#form those\n",
    "# Show realtime movement in motion and let 3 turtles show simultaneously."
   ]
  },
  {
   "cell_type": "code",
   "execution_count": 2,
   "metadata": {},
   "outputs": [],
   "source": [
    "from turtle import *\n",
    "from datetime import datetime"
   ]
  },
  {
   "cell_type": "code",
   "execution_count": 3,
   "metadata": {},
   "outputs": [],
   "source": [
    "#creat dial, draw a longer line every 5 minutes\n",
    "def clockbase(radius):\n",
    "    reset()\n",
    "    pensize(8)\n",
    "    for i in range(60):\n",
    "        moving(radius)\n",
    "        if i % 5 ==0:\n",
    "            fd(25)\n",
    "            moving(-radius-25)\n",
    "        else:\n",
    "            dot(3)\n",
    "            moving(-radius)\n",
    "        rt(6)"
   ]
  },
  {
   "cell_type": "code",
   "execution_count": 4,
   "metadata": {},
   "outputs": [],
   "source": [
    "# New fuction to skip repetitive procedures\n",
    "def moving(distance, angle=0):\n",
    "    penup()\n",
    "    right(angle)\n",
    "    forward(distance)\n",
    "    left(angle)\n",
    "    pendown()\n",
    "    "
   ]
  },
  {
   "cell_type": "code",
   "execution_count": 5,
   "metadata": {},
   "outputs": [],
   "source": [
    "# Creat new fuction to make pins, register a new shape to turtle \n",
    "# which will be the new clock hand\n",
    "def timer_pins(name,lenth,vast):\n",
    "    reset()\n",
    "    moving(-lenth*0.15) #Set each hand's origin location to center\n",
    "    begin_poly()\n",
    "    layout(lenth,vast)\n",
    "    end_poly()\n",
    "    clock_labellings = get_poly()\n",
    "    register_shape(name,clock_labellings)"
   ]
  },
  {
   "cell_type": "code",
   "execution_count": 6,
   "metadata": {},
   "outputs": [],
   "source": [
    "# Draw arrows for hands\n",
    "def layout(lenth,vast):\n",
    "    fd(lenth*1.15)\n",
    "    rt(90)\n",
    "    fd(vast/2.0)\n",
    "    lt(120)\n",
    "    fd(vast)\n",
    "    lt(120)\n",
    "    fd(vast)\n",
    "    lt(120)\n",
    "    fd(vast/2.0)"
   ]
  },
  {
   "cell_type": "code",
   "execution_count": 7,
   "metadata": {},
   "outputs": [],
   "source": [
    "# Creat 3 new turtles to make clock hands for second, minute, hour\n",
    "def settings():\n",
    "    global second_pin, minute_pin, hour_pin\n",
    "    timer_pins('second_pin',125,25)\n",
    "    timer_pins('minute_pin',130,35)\n",
    "    timer_pins('hour_pin',90,50)\n",
    "    clockbase(160)\n",
    "    #Set different sizes/lenths for the pins and size of clock base\n",
    "    second_pin = Turtle()\n",
    "    second_pin.shape('second_pin')\n",
    "    second_pin.color('red','black')\n",
    "    minute_pin = Turtle()\n",
    "    minute_pin.shape('minute_pin')\n",
    "    minute_pin.color('blue','orange')\n",
    "    hour_pin = Turtle()\n",
    "    hour_pin.shape('hour_pin')\n",
    "    hour_pin.color('yellow','orange')\n",
    "    ##Set different colors for the pins\n",
    "    for pin in second_pin,minute_pin,hour_pin:\n",
    "        pin.resizemode('user')\n",
    "        pin.shapesize(1,1,3)\n",
    "        pin.speed(0)\n",
    "    ht()\n",
    "    ## initialize every pin to it's original status\n",
    "    "
   ]
  },
  {
   "cell_type": "code",
   "execution_count": 8,
   "metadata": {},
   "outputs": [],
   "source": [
    "# Draw the movement of hands in motion\n",
    "def tick():\n",
    "    t = datetime.today() # Get current time\n",
    "    secondTimer = t.second + t.microsecond*0.000001\n",
    "    minute = t.minute + secondTimer/60\n",
    "    onTheHour = t.hour + minute/60\n",
    "# Showing no process of drawing instead only show the result \n",
    "    try:\n",
    "        tracer(False)\n",
    "        second_pin.setheading(6*secondTimer)\n",
    "        #Set second pin to rotate 6 degree every second\n",
    "        minute_pin.setheading(6*minute)\n",
    "        hour_pin.setheading(30*onTheHour)\n",
    "        tracer(True)\n",
    "        ontimer(tick,100) # tick every 100ms\n",
    "    except Terminator:\n",
    "        pass\n",
    "        "
   ]
  },
  {
   "cell_type": "code",
   "execution_count": 9,
   "metadata": {},
   "outputs": [],
   "source": [
    "# Show multiple result at the same time\n",
    "def main():\n",
    "    tracer(False)\n",
    "    settings()\n",
    "    tracer(True)\n",
    "    tick()\n",
    "    \n",
    "    return'DONE'\n"
   ]
  },
  {
   "cell_type": "code",
   "execution_count": 10,
   "metadata": {},
   "outputs": [
    {
     "name": "stdout",
     "output_type": "stream",
     "text": [
      "DONE\n"
     ]
    }
   ],
   "source": [
    "if __name__=='__main__':\n",
    "    mode('logo') # initialize every pin to north facing\n",
    "    msg = main()\n",
    "    print(msg)\n",
    "    mainloop()"
   ]
  },
  {
   "cell_type": "code",
   "execution_count": null,
   "metadata": {},
   "outputs": [],
   "source": [
    "# I watched a tutorial on YouTube \n",
    "#https://www.youtube.com/watch?v=TtdS8g7kGuo&t=183s\n",
    "#There are a few new fuctions and inspiring methods used in this project\n",
    "# Like Skip fuction and Shape fuction to really seperate this method from others"
   ]
  },
  {
   "cell_type": "code",
   "execution_count": null,
   "metadata": {},
   "outputs": [],
   "source": []
  },
  {
   "cell_type": "code",
   "execution_count": null,
   "metadata": {},
   "outputs": [],
   "source": []
  }
 ],
 "metadata": {
  "kernelspec": {
   "display_name": "Python 3",
   "language": "python",
   "name": "python3"
  },
  "language_info": {
   "codemirror_mode": {
    "name": "ipython",
    "version": 3
   },
   "file_extension": ".py",
   "mimetype": "text/x-python",
   "name": "python",
   "nbconvert_exporter": "python",
   "pygments_lexer": "ipython3",
   "version": "3.6.2"
  }
 },
 "nbformat": 4,
 "nbformat_minor": 2
}
